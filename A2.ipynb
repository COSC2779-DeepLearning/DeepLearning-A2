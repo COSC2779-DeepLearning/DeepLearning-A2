{
  "nbformat": 4,
  "nbformat_minor": 0,
  "metadata": {
    "colab": {
      "name": "A2.ipynb",
      "provenance": [],
      "collapsed_sections": []
    },
    "kernelspec": {
      "name": "python3",
      "display_name": "Python 3"
    }
  },
  "cells": [
    {
      "cell_type": "code",
      "metadata": {
        "id": "xNclUKzGqp_7",
        "outputId": "931f7ebb-984d-43bb-ee94-e6bac1e90340",
        "colab": {
          "base_uri": "https://localhost:8080/",
          "height": 34
        }
      },
      "source": [
        "from google.colab import drive\n",
        "drive.mount('/content/drive', force_remount=True)"
      ],
      "execution_count": 8,
      "outputs": [
        {
          "output_type": "stream",
          "text": [
            "Mounted at /content/drive\n"
          ],
          "name": "stdout"
        }
      ]
    },
    {
      "cell_type": "code",
      "metadata": {
        "id": "EHOxvMatEZVg"
      },
      "source": [
        "!cp /content/drive/'My Drive'/'Deep Learning'/StanceDataset.zip .\n",
        "!unzip -q -o StanceDataset.zip -d data\n",
        "!rm StanceDataset.zip\n",
        "!unzip -uq \"/content/drive/My Drive/Deep Learning/StanceDataset.zip\" -d \"/content/drive/My Drive/Deep Learning/data\""
      ],
      "execution_count": 9,
      "outputs": []
    },
    {
      "cell_type": "code",
      "metadata": {
        "id": "yXv-qWtNEx4S"
      },
      "source": [
        "import tensorflow as tf\n",
        "AUTOTUNE = tf.data.experimental.AUTOTUNE\n",
        "import numpy as np\n",
        "import pandas as pd\n",
        "\n",
        "import tensorflow_datasets as tfds\n",
        "import pathlib\n",
        "import shutil\n",
        "import tempfile\n",
        "\n",
        "from  IPython import display\n",
        "from matplotlib import pyplot as plt"
      ],
      "execution_count": 10,
      "outputs": []
    },
    {
      "cell_type": "code",
      "metadata": {
        "id": "qfJWb-tUFs7f",
        "outputId": "a5262a44-2809-404b-e20d-4f51241196f4",
        "colab": {
          "base_uri": "https://localhost:8080/",
          "height": 491
        }
      },
      "source": [
        "stance_df = pd.read_csv(\"../content/drive/My Drive/Deep Learning/data/StanceDataset/train.csv\", index_col = None, header = 0, \n",
        "                        engine = 'python')\n",
        "stance_df.head(15)"
      ],
      "execution_count": 11,
      "outputs": [
        {
          "output_type": "execute_result",
          "data": {
            "text/html": [
              "<div>\n",
              "<style scoped>\n",
              "    .dataframe tbody tr th:only-of-type {\n",
              "        vertical-align: middle;\n",
              "    }\n",
              "\n",
              "    .dataframe tbody tr th {\n",
              "        vertical-align: top;\n",
              "    }\n",
              "\n",
              "    .dataframe thead th {\n",
              "        text-align: right;\n",
              "    }\n",
              "</style>\n",
              "<table border=\"1\" class=\"dataframe\">\n",
              "  <thead>\n",
              "    <tr style=\"text-align: right;\">\n",
              "      <th></th>\n",
              "      <th>Tweet</th>\n",
              "      <th>Target</th>\n",
              "      <th>Stance</th>\n",
              "      <th>Opinion Towards</th>\n",
              "      <th>Sentiment</th>\n",
              "    </tr>\n",
              "  </thead>\n",
              "  <tbody>\n",
              "    <tr>\n",
              "      <th>0</th>\n",
              "      <td>@tedcruz And, #HandOverTheServer she wiped cle...</td>\n",
              "      <td>Hillary Clinton</td>\n",
              "      <td>AGAINST</td>\n",
              "      <td>1.  The tweet explicitly expresses opinion abo...</td>\n",
              "      <td>neg</td>\n",
              "    </tr>\n",
              "    <tr>\n",
              "      <th>1</th>\n",
              "      <td>Hillary is our best choice if we truly want to...</td>\n",
              "      <td>Hillary Clinton</td>\n",
              "      <td>FAVOR</td>\n",
              "      <td>1.  The tweet explicitly expresses opinion abo...</td>\n",
              "      <td>pos</td>\n",
              "    </tr>\n",
              "    <tr>\n",
              "      <th>2</th>\n",
              "      <td>@TheView I think our country is ready for a fe...</td>\n",
              "      <td>Hillary Clinton</td>\n",
              "      <td>AGAINST</td>\n",
              "      <td>1.  The tweet explicitly expresses opinion abo...</td>\n",
              "      <td>neg</td>\n",
              "    </tr>\n",
              "    <tr>\n",
              "      <th>3</th>\n",
              "      <td>I just gave an unhealthy amount of my hard-ear...</td>\n",
              "      <td>Hillary Clinton</td>\n",
              "      <td>AGAINST</td>\n",
              "      <td>1.  The tweet explicitly expresses opinion abo...</td>\n",
              "      <td>neg</td>\n",
              "    </tr>\n",
              "    <tr>\n",
              "      <th>4</th>\n",
              "      <td>@PortiaABoulger Thank you for adding me to you...</td>\n",
              "      <td>Hillary Clinton</td>\n",
              "      <td>NONE</td>\n",
              "      <td>3.  The tweet is not explicitly expressing opi...</td>\n",
              "      <td>pos</td>\n",
              "    </tr>\n",
              "    <tr>\n",
              "      <th>5</th>\n",
              "      <td>Hillary can not win. Here's hoping the Dems of...</td>\n",
              "      <td>Hillary Clinton</td>\n",
              "      <td>AGAINST</td>\n",
              "      <td>1.  The tweet explicitly expresses opinion abo...</td>\n",
              "      <td>neg</td>\n",
              "    </tr>\n",
              "    <tr>\n",
              "      <th>6</th>\n",
              "      <td>Respect FOR the law and respect BY the law Yes...</td>\n",
              "      <td>Hillary Clinton</td>\n",
              "      <td>NONE</td>\n",
              "      <td>2. The tweet does NOT expresses opinion about ...</td>\n",
              "      <td>pos</td>\n",
              "    </tr>\n",
              "    <tr>\n",
              "      <th>7</th>\n",
              "      <td>I don't want to be appointed to an Ambassador ...</td>\n",
              "      <td>Hillary Clinton</td>\n",
              "      <td>NONE</td>\n",
              "      <td>2. The tweet does NOT expresses opinion about ...</td>\n",
              "      <td>neg</td>\n",
              "    </tr>\n",
              "    <tr>\n",
              "      <th>8</th>\n",
              "      <td>#StopHillary2016 @HillaryClinton if there was ...</td>\n",
              "      <td>Hillary Clinton</td>\n",
              "      <td>AGAINST</td>\n",
              "      <td>1.  The tweet explicitly expresses opinion abo...</td>\n",
              "      <td>neg</td>\n",
              "    </tr>\n",
              "    <tr>\n",
              "      <th>9</th>\n",
              "      <td>@HillaryClinton End lawless #ClintonFoundation...</td>\n",
              "      <td>Hillary Clinton</td>\n",
              "      <td>AGAINST</td>\n",
              "      <td>1.  The tweet explicitly expresses opinion abo...</td>\n",
              "      <td>neg</td>\n",
              "    </tr>\n",
              "    <tr>\n",
              "      <th>10</th>\n",
              "      <td>Use your brain, keep Hillary out of the White ...</td>\n",
              "      <td>Hillary Clinton</td>\n",
              "      <td>AGAINST</td>\n",
              "      <td>1.  The tweet explicitly expresses opinion abo...</td>\n",
              "      <td>neg</td>\n",
              "    </tr>\n",
              "    <tr>\n",
              "      <th>11</th>\n",
              "      <td>@HillaryClinton Hillary pandering with her log...</td>\n",
              "      <td>Hillary Clinton</td>\n",
              "      <td>AGAINST</td>\n",
              "      <td>1.  The tweet explicitly expresses opinion abo...</td>\n",
              "      <td>neg</td>\n",
              "    </tr>\n",
              "    <tr>\n",
              "      <th>12</th>\n",
              "      <td>@readyforHRC @HillaryClinton #HillaryClinton, ...</td>\n",
              "      <td>Hillary Clinton</td>\n",
              "      <td>FAVOR</td>\n",
              "      <td>1.  The tweet explicitly expresses opinion abo...</td>\n",
              "      <td>pos</td>\n",
              "    </tr>\n",
              "    <tr>\n",
              "      <th>13</th>\n",
              "      <td>@CiaraAntaya cuz you know I'm such a feminist</td>\n",
              "      <td>Hillary Clinton</td>\n",
              "      <td>NONE</td>\n",
              "      <td>2. The tweet does NOT expresses opinion about ...</td>\n",
              "      <td>other</td>\n",
              "    </tr>\n",
              "    <tr>\n",
              "      <th>14</th>\n",
              "      <td>2 million bogus followers on Twitter @HillaryC...</td>\n",
              "      <td>Hillary Clinton</td>\n",
              "      <td>AGAINST</td>\n",
              "      <td>1.  The tweet explicitly expresses opinion abo...</td>\n",
              "      <td>neg</td>\n",
              "    </tr>\n",
              "  </tbody>\n",
              "</table>\n",
              "</div>"
            ],
            "text/plain": [
              "                                                Tweet  ... Sentiment\n",
              "0   @tedcruz And, #HandOverTheServer she wiped cle...  ...       neg\n",
              "1   Hillary is our best choice if we truly want to...  ...       pos\n",
              "2   @TheView I think our country is ready for a fe...  ...       neg\n",
              "3   I just gave an unhealthy amount of my hard-ear...  ...       neg\n",
              "4   @PortiaABoulger Thank you for adding me to you...  ...       pos\n",
              "5   Hillary can not win. Here's hoping the Dems of...  ...       neg\n",
              "6   Respect FOR the law and respect BY the law Yes...  ...       pos\n",
              "7   I don't want to be appointed to an Ambassador ...  ...       neg\n",
              "8   #StopHillary2016 @HillaryClinton if there was ...  ...       neg\n",
              "9   @HillaryClinton End lawless #ClintonFoundation...  ...       neg\n",
              "10  Use your brain, keep Hillary out of the White ...  ...       neg\n",
              "11  @HillaryClinton Hillary pandering with her log...  ...       neg\n",
              "12  @readyforHRC @HillaryClinton #HillaryClinton, ...  ...       pos\n",
              "13     @CiaraAntaya cuz you know I'm such a feminist   ...     other\n",
              "14  2 million bogus followers on Twitter @HillaryC...  ...       neg\n",
              "\n",
              "[15 rows x 5 columns]"
            ]
          },
          "metadata": {
            "tags": []
          },
          "execution_count": 11
        }
      ]
    },
    {
      "cell_type": "code",
      "metadata": {
        "id": "RJKl4DQ24x3D"
      },
      "source": [
        ""
      ],
      "execution_count": null,
      "outputs": []
    },
    {
      "cell_type": "code",
      "metadata": {
        "id": "89jAwZbiF8-H"
      },
      "source": [
        "stance_df['Stance'] = stance_df['Stance'].replace(\"NONE\", \"NEITHER\")"
      ],
      "execution_count": 12,
      "outputs": []
    },
    {
      "cell_type": "code",
      "metadata": {
        "id": "Zg0NUnLMKXQT",
        "outputId": "d80d1469-2a84-4eec-9ea6-a612b46a4870",
        "colab": {
          "base_uri": "https://localhost:8080/",
          "height": 316
        }
      },
      "source": [
        "stance_df['Stance'].value_counts().plot(kind='bar')"
      ],
      "execution_count": 13,
      "outputs": [
        {
          "output_type": "execute_result",
          "data": {
            "text/plain": [
              "<matplotlib.axes._subplots.AxesSubplot at 0x7f3205fa1be0>"
            ]
          },
          "metadata": {
            "tags": []
          },
          "execution_count": 13
        },
        {
          "output_type": "display_data",
          "data": {
            "image/png": "[encoded data removed]",
            "text/plain": [
              "<Figure size 432x288 with 1 Axes>"
            ]
          },
          "metadata": {
            "tags": [],
            "needs_background": "light"
          }
        }
      ]
    },
    {
      "cell_type": "code",
      "metadata": {
        "id": "PDGgkyUCLDLk"
      },
      "source": [
        "import re\n",
        "\n",
        "def process(text, tokeniser, stopwords=[]):\n",
        "    \"\"\"\n",
        "    Perform the re-processing of tweets.  \n",
        "\n",
        "    @param text: the text (tweet) to process\n",
        "    @param tokeniser: tokeniser to use.\n",
        "    @param stopwords: list of stopwords to use.\n",
        "      \n",
        "    @returns: list of (valid) tokens in text\n",
        "    \"\"\"\n",
        "    \n",
        "    regexDigit = re.compile(\"^\\d+\\s|\\s\\d+\\s|\\s\\d+$\")\n",
        "    regexHttp = re.compile(\"^http\")\n",
        "    emoji_pattern = re.compile(\"[\"\n",
        "                                   u\"\\U0001F600-\\U0001F64F\"  # emoticons\n",
        "                                   u\"\\U0001F300-\\U0001F5FF\"  # symbols & pictographs\n",
        "                                   u\"\\U0001F680-\\U0001F6FF\"  # transport & map symbols\n",
        "                                   u\"\\U0001F1E0-\\U0001F1FF\"  # flags (iOS)\n",
        "                                   u\"\\U00002702-\\U000027B0\"\n",
        "                                   u\"\\U000024C2-\\U0001F251\"\n",
        "                                   \"]+\", flags=re.UNICODE)\n",
        "    \n",
        "    text = text.lower()\n",
        "    text = re.sub(\"@\", '', text)\n",
        "    text = re.sub(\"#\", '', text)\n",
        "    tokens = tokeniser.tokenize(text)\n",
        "        \n",
        "    return [tok for tok in tokens if tok not in stopwords and not tok.isdigit() and regexDigit.match(tok) == None and \n",
        "                           regexHttp.match(tok) == None and emoji_pattern.match(tok) == None ]"
      ],
      "execution_count": 23,
      "outputs": []
    },
    {
      "cell_type": "code",
      "metadata": {
        "id": "q_69NKf82LqF",
        "outputId": "aa044792-06b6-4b55-8b9e-cdf8a6bc4efe",
        "colab": {
          "base_uri": "https://localhost:8080/",
          "height": 84
        }
      },
      "source": [
        "# use built-in nltk tweet tokenizer\n",
        "import nltk\n",
        "import string\n",
        "nltk.download('punkt')\n",
        "nltk.download('stopwords')\n",
        "from nltk.tokenize import TweetTokenizer\n",
        "from nltk.corpus import stopwords\n",
        "from collections import Counter\n",
        "\n",
        "tweetTokenizer = nltk.tokenize.TweetTokenizer()\n",
        "punct = list(string.punctuation)\n",
        "stopwordList = stopwords.words('english') + punct +['.']\n",
        "\n",
        "# this will store the list of tweets we read from timeline\n",
        "for line in range(0, len(stance_df)):\n",
        "        stance_df['Tokenized Tweets'][line] = process(text=stance_df['Tweet'][line], tokeniser=tweetTokenizer, stopwords=stopwordList)\n",
        "\n"
      ],
      "execution_count": 34,
      "outputs": [
        {
          "output_type": "stream",
          "text": [
            "[nltk_data] Downloading package punkt to /root/nltk_data...\n",
            "[nltk_data]   Package punkt is already up-to-date!\n",
            "[nltk_data] Downloading package stopwords to /root/nltk_data...\n",
            "[nltk_data]   Package stopwords is already up-to-date!\n"
          ],
          "name": "stdout"
        }
      ]
    },
    {
      "cell_type": "code",
      "metadata": {
        "id": "5EjodQHbmZgZ",
        "outputId": "83b1fc15-1c3d-4cc1-c9dd-3fc62ccbdc8a",
        "colab": {
          "base_uri": "https://localhost:8080/",
          "height": 491
        }
      },
      "source": [
        "stance_df.head(15)"
      ],
      "execution_count": 37,
      "outputs": [
        {
          "output_type": "execute_result",
          "data": {
            "text/html": [
              "<div>\n",
              "<style scoped>\n",
              "    .dataframe tbody tr th:only-of-type {\n",
              "        vertical-align: middle;\n",
              "    }\n",
              "\n",
              "    .dataframe tbody tr th {\n",
              "        vertical-align: top;\n",
              "    }\n",
              "\n",
              "    .dataframe thead th {\n",
              "        text-align: right;\n",
              "    }\n",
              "</style>\n",
              "<table border=\"1\" class=\"dataframe\">\n",
              "  <thead>\n",
              "    <tr style=\"text-align: right;\">\n",
              "      <th></th>\n",
              "      <th>Tweet</th>\n",
              "      <th>Target</th>\n",
              "      <th>Stance</th>\n",
              "      <th>Opinion Towards</th>\n",
              "      <th>Sentiment</th>\n",
              "      <th>Tokenized Tweets</th>\n",
              "    </tr>\n",
              "  </thead>\n",
              "  <tbody>\n",
              "    <tr>\n",
              "      <th>0</th>\n",
              "      <td>@tedcruz And, #HandOverTheServer she wiped cle...</td>\n",
              "      <td>Hillary Clinton</td>\n",
              "      <td>AGAINST</td>\n",
              "      <td>1.  The tweet explicitly expresses opinion abo...</td>\n",
              "      <td>neg</td>\n",
              "      <td>[tedcruz, handovertheserver, wiped, clean, 30k...</td>\n",
              "    </tr>\n",
              "    <tr>\n",
              "      <th>1</th>\n",
              "      <td>Hillary is our best choice if we truly want to...</td>\n",
              "      <td>Hillary Clinton</td>\n",
              "      <td>FAVOR</td>\n",
              "      <td>1.  The tweet explicitly expresses opinion abo...</td>\n",
              "      <td>pos</td>\n",
              "      <td>[hillary, best, choice, truly, want, continue,...</td>\n",
              "    </tr>\n",
              "    <tr>\n",
              "      <th>2</th>\n",
              "      <td>@TheView I think our country is ready for a fe...</td>\n",
              "      <td>Hillary Clinton</td>\n",
              "      <td>AGAINST</td>\n",
              "      <td>1.  The tweet explicitly expresses opinion abo...</td>\n",
              "      <td>neg</td>\n",
              "      <td>[theview, think, country, ready, female, pres,...</td>\n",
              "    </tr>\n",
              "    <tr>\n",
              "      <th>3</th>\n",
              "      <td>I just gave an unhealthy amount of my hard-ear...</td>\n",
              "      <td>Hillary Clinton</td>\n",
              "      <td>AGAINST</td>\n",
              "      <td>1.  The tweet explicitly expresses opinion abo...</td>\n",
              "      <td>neg</td>\n",
              "      <td>[gave, unhealthy, amount, hard-earned, money, ...</td>\n",
              "    </tr>\n",
              "    <tr>\n",
              "      <th>4</th>\n",
              "      <td>@PortiaABoulger Thank you for adding me to you...</td>\n",
              "      <td>Hillary Clinton</td>\n",
              "      <td>NEITHER</td>\n",
              "      <td>3.  The tweet is not explicitly expressing opi...</td>\n",
              "      <td>pos</td>\n",
              "      <td>[portiaaboulger, thank, adding, list]</td>\n",
              "    </tr>\n",
              "    <tr>\n",
              "      <th>5</th>\n",
              "      <td>Hillary can not win. Here's hoping the Dems of...</td>\n",
              "      <td>Hillary Clinton</td>\n",
              "      <td>AGAINST</td>\n",
              "      <td>1.  The tweet explicitly expresses opinion abo...</td>\n",
              "      <td>neg</td>\n",
              "      <td>[hillary, win, here's, hoping, dems, offer, re...</td>\n",
              "    </tr>\n",
              "    <tr>\n",
              "      <th>6</th>\n",
              "      <td>Respect FOR the law and respect BY the law Yes...</td>\n",
              "      <td>Hillary Clinton</td>\n",
              "      <td>NEITHER</td>\n",
              "      <td>2. The tweet does NOT expresses opinion about ...</td>\n",
              "      <td>pos</td>\n",
              "      <td>[respect, law, respect, law, yes, needed, desp...</td>\n",
              "    </tr>\n",
              "    <tr>\n",
              "      <th>7</th>\n",
              "      <td>I don't want to be appointed to an Ambassador ...</td>\n",
              "      <td>Hillary Clinton</td>\n",
              "      <td>NEITHER</td>\n",
              "      <td>2. The tweet does NOT expresses opinion about ...</td>\n",
              "      <td>neg</td>\n",
              "      <td>[want, appointed, ambassador, post]</td>\n",
              "    </tr>\n",
              "    <tr>\n",
              "      <th>8</th>\n",
              "      <td>#StopHillary2016 @HillaryClinton if there was ...</td>\n",
              "      <td>Hillary Clinton</td>\n",
              "      <td>AGAINST</td>\n",
              "      <td>1.  The tweet explicitly expresses opinion abo...</td>\n",
              "      <td>neg</td>\n",
              "      <td>[stophillary, hillaryclinton, woman, integrity...</td>\n",
              "    </tr>\n",
              "    <tr>\n",
              "      <th>9</th>\n",
              "      <td>@HillaryClinton End lawless #ClintonFoundation...</td>\n",
              "      <td>Hillary Clinton</td>\n",
              "      <td>AGAINST</td>\n",
              "      <td>1.  The tweet explicitly expresses opinion abo...</td>\n",
              "      <td>neg</td>\n",
              "      <td>[hillaryclinton, end, lawless, clintonfoundati...</td>\n",
              "    </tr>\n",
              "    <tr>\n",
              "      <th>10</th>\n",
              "      <td>Use your brain, keep Hillary out of the White ...</td>\n",
              "      <td>Hillary Clinton</td>\n",
              "      <td>AGAINST</td>\n",
              "      <td>1.  The tweet explicitly expresses opinion abo...</td>\n",
              "      <td>neg</td>\n",
              "      <td>[use, brain, keep, hillary, white, house, clin...</td>\n",
              "    </tr>\n",
              "    <tr>\n",
              "      <th>11</th>\n",
              "      <td>@HillaryClinton Hillary pandering with her log...</td>\n",
              "      <td>Hillary Clinton</td>\n",
              "      <td>AGAINST</td>\n",
              "      <td>1.  The tweet explicitly expresses opinion abo...</td>\n",
              "      <td>neg</td>\n",
              "      <td>[hillaryclinton, hillary, pandering, logo, cli...</td>\n",
              "    </tr>\n",
              "    <tr>\n",
              "      <th>12</th>\n",
              "      <td>@readyforHRC @HillaryClinton #HillaryClinton, ...</td>\n",
              "      <td>Hillary Clinton</td>\n",
              "      <td>FAVOR</td>\n",
              "      <td>1.  The tweet explicitly expresses opinion abo...</td>\n",
              "      <td>pos</td>\n",
              "      <td>[readyforhrc, hillaryclinton, hillaryclinton, ...</td>\n",
              "    </tr>\n",
              "    <tr>\n",
              "      <th>13</th>\n",
              "      <td>@CiaraAntaya cuz you know I'm such a feminist</td>\n",
              "      <td>Hillary Clinton</td>\n",
              "      <td>NEITHER</td>\n",
              "      <td>2. The tweet does NOT expresses opinion about ...</td>\n",
              "      <td>other</td>\n",
              "      <td>[ciaraantaya, cuz, know, i'm, feminist]</td>\n",
              "    </tr>\n",
              "    <tr>\n",
              "      <th>14</th>\n",
              "      <td>2 million bogus followers on Twitter @HillaryC...</td>\n",
              "      <td>Hillary Clinton</td>\n",
              "      <td>AGAINST</td>\n",
              "      <td>1.  The tweet explicitly expresses opinion abo...</td>\n",
              "      <td>neg</td>\n",
              "      <td>[million, bogus, followers, twitter, hillarycl...</td>\n",
              "    </tr>\n",
              "  </tbody>\n",
              "</table>\n",
              "</div>"
            ],
            "text/plain": [
              "                                                Tweet  ...                                   Tokenized Tweets\n",
              "0   @tedcruz And, #HandOverTheServer she wiped cle...  ...  [tedcruz, handovertheserver, wiped, clean, 30k...\n",
              "1   Hillary is our best choice if we truly want to...  ...  [hillary, best, choice, truly, want, continue,...\n",
              "2   @TheView I think our country is ready for a fe...  ...  [theview, think, country, ready, female, pres,...\n",
              "3   I just gave an unhealthy amount of my hard-ear...  ...  [gave, unhealthy, amount, hard-earned, money, ...\n",
              "4   @PortiaABoulger Thank you for adding me to you...  ...              [portiaaboulger, thank, adding, list]\n",
              "5   Hillary can not win. Here's hoping the Dems of...  ...  [hillary, win, here's, hoping, dems, offer, re...\n",
              "6   Respect FOR the law and respect BY the law Yes...  ...  [respect, law, respect, law, yes, needed, desp...\n",
              "7   I don't want to be appointed to an Ambassador ...  ...                [want, appointed, ambassador, post]\n",
              "8   #StopHillary2016 @HillaryClinton if there was ...  ...  [stophillary, hillaryclinton, woman, integrity...\n",
              "9   @HillaryClinton End lawless #ClintonFoundation...  ...  [hillaryclinton, end, lawless, clintonfoundati...\n",
              "10  Use your brain, keep Hillary out of the White ...  ...  [use, brain, keep, hillary, white, house, clin...\n",
              "11  @HillaryClinton Hillary pandering with her log...  ...  [hillaryclinton, hillary, pandering, logo, cli...\n",
              "12  @readyforHRC @HillaryClinton #HillaryClinton, ...  ...  [readyforhrc, hillaryclinton, hillaryclinton, ...\n",
              "13     @CiaraAntaya cuz you know I'm such a feminist   ...            [ciaraantaya, cuz, know, i'm, feminist]\n",
              "14  2 million bogus followers on Twitter @HillaryC...  ...  [million, bogus, followers, twitter, hillarycl...\n",
              "\n",
              "[15 rows x 6 columns]"
            ]
          },
          "metadata": {
            "tags": []
          },
          "execution_count": 37
        }
      ]
    }
  ]
}