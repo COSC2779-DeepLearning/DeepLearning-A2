{
  "nbformat": 4,
  "nbformat_minor": 0,
  "metadata": {
    "colab": {
      "name": "A2.ipynb",
      "provenance": [],
      "collapsed_sections": []
    },
    "kernelspec": {
      "name": "python3",
      "display_name": "Python 3"
    }
  },
  "cells": [
    {
      "cell_type": "code",
      "metadata": {
        "id": "xNclUKzGqp_7",
        "outputId": "eefd1196-f447-4c10-a501-044b91b2bdb6",
        "colab": {
          "base_uri": "https://localhost:8080/",
          "height": 34
        }
      },
      "source": [
        "from google.colab import drive\n",
        "drive.mount('/content/drive', force_remount=True)"
      ],
      "execution_count": 1,
      "outputs": [
        {
          "output_type": "stream",
          "text": [
            "Mounted at /content/drive\n"
          ],
          "name": "stdout"
        }
      ]
    },
    {
      "cell_type": "code",
      "metadata": {
        "id": "EHOxvMatEZVg"
      },
      "source": [
        "!cp /content/drive/'My Drive'/'Colab Notebooks'/StanceDataset.zip .\n",
        "!unzip -q -o StanceDataset.zip -d data\n",
        "!rm StanceDataset.zip\n",
        "#!unzip -uq \"/content/drive/My Drive/Colab Notebooks/StanceDataset.zip\" -d \"/content/drive/My Drive/Colab Notebooks/data\""
      ],
      "execution_count": null,
      "outputs": []
    },
    {
      "cell_type": "code",
      "metadata": {
        "id": "yXv-qWtNEx4S"
      },
      "source": [
        "import tensorflow as tf\n",
        "AUTOTUNE = tf.data.experimental.AUTOTUNE\n",
        "import numpy as np\n",
        "import pandas as pd\n",
        "\n",
        "import tensorflow_datasets as tfds\n",
        "import pathlib\n",
        "import shutil\n",
        "import tempfile\n",
        "\n",
        "from  IPython import display\n",
        "from matplotlib import pyplot as plt"
      ],
      "execution_count": 2,
      "outputs": []
    },
    {
      "cell_type": "code",
      "metadata": {
        "id": "qfJWb-tUFs7f",
        "outputId": "2374ef00-a0a7-4680-a502-d3e18875cc50",
        "colab": {
          "base_uri": "https://localhost:8080/",
          "height": 195
        }
      },
      "source": [
        "stance_df = pd.read_csv(\"../content/drive/My Drive/Colab Notebooks/StanceDataset/train.csv\", index_col = None, header = 0, \n",
        "                        engine = 'python')\n",
        "stance_df.head()"
      ],
      "execution_count": 39,
      "outputs": [
        {
          "output_type": "execute_result",
          "data": {
            "text/html": [
              "<div>\n",
              "<style scoped>\n",
              "    .dataframe tbody tr th:only-of-type {\n",
              "        vertical-align: middle;\n",
              "    }\n",
              "\n",
              "    .dataframe tbody tr th {\n",
              "        vertical-align: top;\n",
              "    }\n",
              "\n",
              "    .dataframe thead th {\n",
              "        text-align: right;\n",
              "    }\n",
              "</style>\n",
              "<table border=\"1\" class=\"dataframe\">\n",
              "  <thead>\n",
              "    <tr style=\"text-align: right;\">\n",
              "      <th></th>\n",
              "      <th>Tweet</th>\n",
              "      <th>Target</th>\n",
              "      <th>Stance</th>\n",
              "      <th>Opinion Towards</th>\n",
              "      <th>Sentiment</th>\n",
              "    </tr>\n",
              "  </thead>\n",
              "  <tbody>\n",
              "    <tr>\n",
              "      <th>0</th>\n",
              "      <td>@tedcruz And, #HandOverTheServer she wiped cle...</td>\n",
              "      <td>Hillary Clinton</td>\n",
              "      <td>AGAINST</td>\n",
              "      <td>1.  The tweet explicitly expresses opinion abo...</td>\n",
              "      <td>neg</td>\n",
              "    </tr>\n",
              "    <tr>\n",
              "      <th>1</th>\n",
              "      <td>Hillary is our best choice if we truly want to...</td>\n",
              "      <td>Hillary Clinton</td>\n",
              "      <td>FAVOR</td>\n",
              "      <td>1.  The tweet explicitly expresses opinion abo...</td>\n",
              "      <td>pos</td>\n",
              "    </tr>\n",
              "    <tr>\n",
              "      <th>2</th>\n",
              "      <td>@TheView I think our country is ready for a fe...</td>\n",
              "      <td>Hillary Clinton</td>\n",
              "      <td>AGAINST</td>\n",
              "      <td>1.  The tweet explicitly expresses opinion abo...</td>\n",
              "      <td>neg</td>\n",
              "    </tr>\n",
              "    <tr>\n",
              "      <th>3</th>\n",
              "      <td>I just gave an unhealthy amount of my hard-ear...</td>\n",
              "      <td>Hillary Clinton</td>\n",
              "      <td>AGAINST</td>\n",
              "      <td>1.  The tweet explicitly expresses opinion abo...</td>\n",
              "      <td>neg</td>\n",
              "    </tr>\n",
              "    <tr>\n",
              "      <th>4</th>\n",
              "      <td>@PortiaABoulger Thank you for adding me to you...</td>\n",
              "      <td>Hillary Clinton</td>\n",
              "      <td>NONE</td>\n",
              "      <td>3.  The tweet is not explicitly expressing opi...</td>\n",
              "      <td>pos</td>\n",
              "    </tr>\n",
              "  </tbody>\n",
              "</table>\n",
              "</div>"
            ],
            "text/plain": [
              "                                               Tweet  ... Sentiment\n",
              "0  @tedcruz And, #HandOverTheServer she wiped cle...  ...       neg\n",
              "1  Hillary is our best choice if we truly want to...  ...       pos\n",
              "2  @TheView I think our country is ready for a fe...  ...       neg\n",
              "3  I just gave an unhealthy amount of my hard-ear...  ...       neg\n",
              "4  @PortiaABoulger Thank you for adding me to you...  ...       pos\n",
              "\n",
              "[5 rows x 5 columns]"
            ]
          },
          "metadata": {
            "tags": []
          },
          "execution_count": 39
        }
      ]
    },
    {
      "cell_type": "code",
      "metadata": {
        "id": "ECrQbZ2j8TJo",
        "outputId": "efa9851b-227f-422f-ff8e-b281b2198fb3",
        "colab": {
          "base_uri": "https://localhost:8080/",
          "height": 34
        }
      },
      "source": [
        "print(\"Stance dataset contains\", stance_df.shape[0], 'rows with', stance_df.shape[1], 'variables.')"
      ],
      "execution_count": 43,
      "outputs": [
        {
          "output_type": "stream",
          "text": [
            "Stance dataset contains 2914 rows with 5 variables.\n"
          ],
          "name": "stdout"
        }
      ]
    },
    {
      "cell_type": "code",
      "metadata": {
        "id": "Q6Gy7XRY45kQ"
      },
      "source": [
        "# convert all the data to lowercase letters\n",
        "stance_df = stance_df.applymap(lambda x: x.upper() if type(x) is str else x)\n",
        "\n",
        "# remove any extra whitespace from the data\n",
        "stance_df = stance_df.applymap(lambda x: x.strip() if type(x) is str else x)\n",
        "\n",
        "#stance_df.head()"
      ],
      "execution_count": 44,
      "outputs": []
    },
    {
      "cell_type": "code",
      "metadata": {
        "id": "89jAwZbiF8-H"
      },
      "source": [
        "stance_df['Stance'] = stance_df['Stance'].replace(\"NONE\", \"NEITHER\")"
      ],
      "execution_count": 45,
      "outputs": []
    },
    {
      "cell_type": "code",
      "metadata": {
        "id": "fH2cK0uo6e9V"
      },
      "source": [
        "#stance_df['Target'].value_counts().plot(kind='bar')"
      ],
      "execution_count": 46,
      "outputs": []
    },
    {
      "cell_type": "code",
      "metadata": {
        "id": "Zg0NUnLMKXQT",
        "outputId": "b6b1cedc-88a4-4813-eb81-2bb5b56c974f",
        "colab": {
          "base_uri": "https://localhost:8080/",
          "height": 298
        }
      },
      "source": [
        "stance_df['Stance'].value_counts().plot(kind='bar')\n",
        "plt.xticks(rotation=0)\n",
        "plt.title(\"Imbalanced data -- before sampling\")"
      ],
      "execution_count": 66,
      "outputs": [
        {
          "output_type": "execute_result",
          "data": {
            "text/plain": [
              "Text(0.5, 1.0, 'Imbalanced data -- before sampling')"
            ]
          },
          "metadata": {
            "tags": []
          },
          "execution_count": 66
        },
        {
          "output_type": "display_data",
          "data": {
            "image/png": "[encoded data removed]",
            "text/plain": [
              "<Figure size 432x288 with 1 Axes>"
            ]
          },
          "metadata": {
            "tags": [],
            "needs_background": "light"
          }
        }
      ]
    },
    {
      "cell_type": "code",
      "metadata": {
        "id": "PDGgkyUCLDLk",
        "outputId": "7e3096bf-3f7a-4002-c490-d834b9e88547",
        "colab": {
          "base_uri": "https://localhost:8080/",
          "height": 104
        }
      },
      "source": [
        "from collections import Counter\n",
        "from imblearn.over_sampling import RandomOverSampler\n",
        "print(Counter(y))\n",
        "oversample = RandomOverSampler(sampling_strategy = 'all')\n",
        "X_over, y_over = oversample.fit_resample(stance_df[['Tweet', 'Target']], stance_df['Stance'])\n",
        "print(Counter(y_over))"
      ],
      "execution_count": 49,
      "outputs": [
        {
          "output_type": "stream",
          "text": [
            "Counter({'AGAINST': 1395, 'NEITHER': 766, 'FAVOR': 753})\n",
            "Counter({'AGAINST': 1395, 'FAVOR': 1395, 'NEITHER': 1395})\n"
          ],
          "name": "stdout"
        },
        {
          "output_type": "stream",
          "text": [
            "/usr/local/lib/python3.6/dist-packages/sklearn/utils/deprecation.py:87: FutureWarning: Function safe_indexing is deprecated; safe_indexing is deprecated in version 0.22 and will be removed in version 0.24.\n",
            "  warnings.warn(msg, category=FutureWarning)\n"
          ],
          "name": "stderr"
        }
      ]
    },
    {
      "cell_type": "code",
      "metadata": {
        "id": "bNtog6DG6lLr",
        "outputId": "086e4369-04d3-44f6-c789-63da6853c382",
        "colab": {
          "base_uri": "https://localhost:8080/",
          "height": 298
        }
      },
      "source": [
        "df = pd.DataFrame(X_over, columns = ['Tweet', 'Target'])\n",
        "df['Stance'] = y_over\n",
        "\n",
        "df['Stance'].value_counts().plot(kind='bar')\n",
        "plt.xticks(rotation=0)\n",
        "plt.title(\"Balanced data -- after oversampling\")"
      ],
      "execution_count": 65,
      "outputs": [
        {
          "output_type": "execute_result",
          "data": {
            "text/plain": [
              "Text(0.5, 1.0, 'Balanced data -- after oversampling')"
            ]
          },
          "metadata": {
            "tags": []
          },
          "execution_count": 65
        },
        {
          "output_type": "display_data",
          "data": {
            "image/png": "[encoded data removed]",
            "text/plain": [
              "<Figure size 432x288 with 1 Axes>"
            ]
          },
          "metadata": {
            "tags": [],
            "needs_background": "light"
          }
        }
      ]
    },
    {
      "cell_type": "code",
      "metadata": {
        "id": "4D34UHFB74TO",
        "outputId": "f58b98ea-6fc1-4352-ce25-a1b172108ed9",
        "colab": {
          "base_uri": "https://localhost:8080/",
          "height": 34
        }
      },
      "source": [
        "print(\"After performing the Random Over sampling, the dataset contains\", df.shape[0], 'rows with', df.shape[1], 'variables.')"
      ],
      "execution_count": 53,
      "outputs": [
        {
          "output_type": "stream",
          "text": [
            "After performing the Random Over sampling, the dataset contains 4185 rows with 3 variables.\n"
          ],
          "name": "stdout"
        }
      ]
    },
    {
      "cell_type": "code",
      "metadata": {
        "id": "WOf1uwpt9YhW",
        "outputId": "fa2c00d0-ff9d-4097-a850-27a9856736bd",
        "colab": {
          "base_uri": "https://localhost:8080/",
          "height": 195
        }
      },
      "source": [
        "df.head()"
      ],
      "execution_count": 67,
      "outputs": [
        {
          "output_type": "execute_result",
          "data": {
            "text/html": [
              "<div>\n",
              "<style scoped>\n",
              "    .dataframe tbody tr th:only-of-type {\n",
              "        vertical-align: middle;\n",
              "    }\n",
              "\n",
              "    .dataframe tbody tr th {\n",
              "        vertical-align: top;\n",
              "    }\n",
              "\n",
              "    .dataframe thead th {\n",
              "        text-align: right;\n",
              "    }\n",
              "</style>\n",
              "<table border=\"1\" class=\"dataframe\">\n",
              "  <thead>\n",
              "    <tr style=\"text-align: right;\">\n",
              "      <th></th>\n",
              "      <th>Tweet</th>\n",
              "      <th>Target</th>\n",
              "      <th>Stance</th>\n",
              "    </tr>\n",
              "  </thead>\n",
              "  <tbody>\n",
              "    <tr>\n",
              "      <th>0</th>\n",
              "      <td>@TEDCRUZ AND, #HANDOVERTHESERVER SHE WIPED CLE...</td>\n",
              "      <td>HILLARY CLINTON</td>\n",
              "      <td>AGAINST</td>\n",
              "    </tr>\n",
              "    <tr>\n",
              "      <th>1</th>\n",
              "      <td>HILLARY IS OUR BEST CHOICE IF WE TRULY WANT TO...</td>\n",
              "      <td>HILLARY CLINTON</td>\n",
              "      <td>FAVOR</td>\n",
              "    </tr>\n",
              "    <tr>\n",
              "      <th>2</th>\n",
              "      <td>@THEVIEW I THINK OUR COUNTRY IS READY FOR A FE...</td>\n",
              "      <td>HILLARY CLINTON</td>\n",
              "      <td>AGAINST</td>\n",
              "    </tr>\n",
              "    <tr>\n",
              "      <th>3</th>\n",
              "      <td>I JUST GAVE AN UNHEALTHY AMOUNT OF MY HARD-EAR...</td>\n",
              "      <td>HILLARY CLINTON</td>\n",
              "      <td>AGAINST</td>\n",
              "    </tr>\n",
              "    <tr>\n",
              "      <th>4</th>\n",
              "      <td>@PORTIAABOULGER THANK YOU FOR ADDING ME TO YOU...</td>\n",
              "      <td>HILLARY CLINTON</td>\n",
              "      <td>NEITHER</td>\n",
              "    </tr>\n",
              "  </tbody>\n",
              "</table>\n",
              "</div>"
            ],
            "text/plain": [
              "                                               Tweet           Target   Stance\n",
              "0  @TEDCRUZ AND, #HANDOVERTHESERVER SHE WIPED CLE...  HILLARY CLINTON  AGAINST\n",
              "1  HILLARY IS OUR BEST CHOICE IF WE TRULY WANT TO...  HILLARY CLINTON    FAVOR\n",
              "2  @THEVIEW I THINK OUR COUNTRY IS READY FOR A FE...  HILLARY CLINTON  AGAINST\n",
              "3  I JUST GAVE AN UNHEALTHY AMOUNT OF MY HARD-EAR...  HILLARY CLINTON  AGAINST\n",
              "4  @PORTIAABOULGER THANK YOU FOR ADDING ME TO YOU...  HILLARY CLINTON  NEITHER"
            ]
          },
          "metadata": {
            "tags": []
          },
          "execution_count": 67
        }
      ]
    }
  ]
}