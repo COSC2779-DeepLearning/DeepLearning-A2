{
  "nbformat": 4,
  "nbformat_minor": 0,
  "metadata": {
    "colab": {
      "name": "A2.ipynb",
      "provenance": [],
      "collapsed_sections": [],
      "authorship_tag": "ABX9TyMnY6GnhevK9B1Hi/4m3z0b",
      "include_colab_link": true
    },
    "kernelspec": {
      "name": "python3",
      "display_name": "Python 3"
    }
  },
  "cells": [
    {
      "cell_type": "markdown",
      "metadata": {
        "id": "view-in-github",
        "colab_type": "text"
      },
      "source": [
        "<a href=\"https://colab.research.google.com/github/COSC2779-DeepLearning/DeepLearning-A2/blob/master/A2.ipynb\" target=\"_parent\"><img src=\"https://colab.research.google.com/assets/colab-badge.svg\" alt=\"Open In Colab\"/></a>"
      ]
    },
    {
      "cell_type": "code",
      "metadata": {
        "id": "xNclUKzGqp_7",
        "outputId": "24a1bc4a-68c5-403a-afa7-ae52e7366340",
        "colab": {
          "base_uri": "https://localhost:8080/",
          "height": 34
        }
      },
      "source": [
        "from google.colab import drive\n",
        "drive.mount('/content/drive', force_remount=True)"
      ],
      "execution_count": 1,
      "outputs": [
        {
          "output_type": "stream",
          "text": [
            "Mounted at /content/drive\n"
          ],
          "name": "stdout"
        }
      ]
    },
    {
      "cell_type": "code",
      "metadata": {
        "id": "EHOxvMatEZVg",
        "outputId": "a34a648b-890e-4e3c-9b1a-8094f51915f6",
        "colab": {
          "base_uri": "https://localhost:8080/",
          "height": 50
        }
      },
      "source": [
        "!cp /content/drive/'My Drive'/'Colab Notebooks'/StanceDataset.zip .\n",
        "!unzip -q -o StanceDataset.zip -d data\n",
        "!rm StanceDataset.zip\n",
        "!unzip -uq \"/content/drive/My Drive/Colab Notebooks/StanceDataset.zip\" -d \"/content/drive/My Drive/Colab Notebooks/data\""
      ],
      "execution_count": 22,
      "outputs": [
        {
          "output_type": "stream",
          "text": [
            "replace /content/drive/My Drive/Colab Notebooks/data/StanceDataset/test.csv? [y]es, [n]o, [A]ll, [N]one, [r]ename: y\n",
            "replace /content/drive/My Drive/Colab Notebooks/data/StanceDataset/train.csv? [y]es, [n]o, [A]ll, [N]one, [r]ename: y\n"
          ],
          "name": "stdout"
        }
      ]
    },
    {
      "cell_type": "code",
      "metadata": {
        "id": "yXv-qWtNEx4S"
      },
      "source": [
        "import tensorflow as tf\n",
        "AUTOTUNE = tf.data.experimental.AUTOTUNE\n",
        "import numpy as np\n",
        "import pandas as pd\n",
        "\n",
        "import tensorflow_datasets as tfds\n",
        "import pathlib\n",
        "import shutil\n",
        "import tempfile\n",
        "\n",
        "from  IPython import display\n",
        "from matplotlib import pyplot as plt"
      ],
      "execution_count": 2,
      "outputs": []
    },
    {
      "cell_type": "code",
      "metadata": {
        "id": "qfJWb-tUFs7f",
        "outputId": "8dbb8bb5-57bb-4f33-f6bf-f4d7e7d618cd",
        "colab": {
          "base_uri": "https://localhost:8080/",
          "height": 195
        }
      },
      "source": [
        "stance_df = pd.read_csv(\"../content/drive/My Drive/Colab Notebooks/StanceDataset/train.csv\", index_col = None, header = 0, \n",
        "                        engine = 'python')\n",
        "stance_df.head()"
      ],
      "execution_count": 10,
      "outputs": [
        {
          "output_type": "execute_result",
          "data": {
            "text/html": [
              "<div>\n",
              "<style scoped>\n",
              "    .dataframe tbody tr th:only-of-type {\n",
              "        vertical-align: middle;\n",
              "    }\n",
              "\n",
              "    .dataframe tbody tr th {\n",
              "        vertical-align: top;\n",
              "    }\n",
              "\n",
              "    .dataframe thead th {\n",
              "        text-align: right;\n",
              "    }\n",
              "</style>\n",
              "<table border=\"1\" class=\"dataframe\">\n",
              "  <thead>\n",
              "    <tr style=\"text-align: right;\">\n",
              "      <th></th>\n",
              "      <th>Tweet</th>\n",
              "      <th>Target</th>\n",
              "      <th>Stance</th>\n",
              "      <th>Opinion Towards</th>\n",
              "      <th>Sentiment</th>\n",
              "    </tr>\n",
              "  </thead>\n",
              "  <tbody>\n",
              "    <tr>\n",
              "      <th>0</th>\n",
              "      <td>@tedcruz And, #HandOverTheServer she wiped cle...</td>\n",
              "      <td>Hillary Clinton</td>\n",
              "      <td>AGAINST</td>\n",
              "      <td>1.  The tweet explicitly expresses opinion abo...</td>\n",
              "      <td>neg</td>\n",
              "    </tr>\n",
              "    <tr>\n",
              "      <th>1</th>\n",
              "      <td>Hillary is our best choice if we truly want to...</td>\n",
              "      <td>Hillary Clinton</td>\n",
              "      <td>FAVOR</td>\n",
              "      <td>1.  The tweet explicitly expresses opinion abo...</td>\n",
              "      <td>pos</td>\n",
              "    </tr>\n",
              "    <tr>\n",
              "      <th>2</th>\n",
              "      <td>@TheView I think our country is ready for a fe...</td>\n",
              "      <td>Hillary Clinton</td>\n",
              "      <td>AGAINST</td>\n",
              "      <td>1.  The tweet explicitly expresses opinion abo...</td>\n",
              "      <td>neg</td>\n",
              "    </tr>\n",
              "    <tr>\n",
              "      <th>3</th>\n",
              "      <td>I just gave an unhealthy amount of my hard-ear...</td>\n",
              "      <td>Hillary Clinton</td>\n",
              "      <td>AGAINST</td>\n",
              "      <td>1.  The tweet explicitly expresses opinion abo...</td>\n",
              "      <td>neg</td>\n",
              "    </tr>\n",
              "    <tr>\n",
              "      <th>4</th>\n",
              "      <td>@PortiaABoulger Thank you for adding me to you...</td>\n",
              "      <td>Hillary Clinton</td>\n",
              "      <td>NONE</td>\n",
              "      <td>3.  The tweet is not explicitly expressing opi...</td>\n",
              "      <td>pos</td>\n",
              "    </tr>\n",
              "  </tbody>\n",
              "</table>\n",
              "</div>"
            ],
            "text/plain": [
              "                                               Tweet  ... Sentiment\n",
              "0  @tedcruz And, #HandOverTheServer she wiped cle...  ...       neg\n",
              "1  Hillary is our best choice if we truly want to...  ...       pos\n",
              "2  @TheView I think our country is ready for a fe...  ...       neg\n",
              "3  I just gave an unhealthy amount of my hard-ear...  ...       neg\n",
              "4  @PortiaABoulger Thank you for adding me to you...  ...       pos\n",
              "\n",
              "[5 rows x 5 columns]"
            ]
          },
          "metadata": {
            "tags": []
          },
          "execution_count": 10
        }
      ]
    },
    {
      "cell_type": "code",
      "metadata": {
        "id": "89jAwZbiF8-H"
      },
      "source": [
        "stance_df['Stance'] = stance_df['Stance'].replace(\"NONE\", \"NEITHER\")"
      ],
      "execution_count": 14,
      "outputs": []
    },
    {
      "cell_type": "code",
      "metadata": {
        "id": "Zg0NUnLMKXQT",
        "outputId": "3dc6467f-05a8-4028-bb78-b035d82bb356",
        "colab": {
          "base_uri": "https://localhost:8080/",
          "height": 316
        }
      },
      "source": [
        "stance_df['Stance'].value_counts().plot(kind='bar')"
      ],
      "execution_count": 17,
      "outputs": [
        {
          "output_type": "execute_result",
          "data": {
            "text/plain": [
              "<matplotlib.axes._subplots.AxesSubplot at 0x7f09e66cd748>"
            ]
          },
          "metadata": {
            "tags": []
          },
          "execution_count": 17
        },
        {
          "output_type": "display_data",
          "data": {
            "image/png": "[encoded data removed]",
            "text/plain": [
              "<Figure size 432x288 with 1 Axes>"
            ]
          },
          "metadata": {
            "tags": [],
            "needs_background": "light"
          }
        }
      ]
    },
    {
      "cell_type": "code",
      "metadata": {
        "id": "PDGgkyUCLDLk"
      },
      "source": [
        ""
      ],
      "execution_count": null,
      "outputs": []
    }
  ]
}