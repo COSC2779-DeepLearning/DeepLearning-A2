{
  "nbformat": 4,
  "nbformat_minor": 0,
  "metadata": {
    "colab": {
      "name": "Data Preprocessing.ipynb",
      "provenance": [],
      "collapsed_sections": []
    },
    "kernelspec": {
      "name": "python3",
      "display_name": "Python 3"
    }
  },
  "cells": [
    {
      "cell_type": "markdown",
      "metadata": {
        "id": "T_ZsftzgNPcR"
      },
      "source": [
        "Importing Useful Libraries"
      ]
    },
    {
      "cell_type": "code",
      "metadata": {
        "id": "xNclUKzGqp_7",
        "outputId": "e80d5f3c-5af9-42b5-a224-ccb471e5e32e",
        "colab": {
          "base_uri": "https://localhost:8080/",
          "height": 34
        }
      },
      "source": [
        "from google.colab import drive\n",
        "drive.mount('/content/drive', force_remount=True)"
      ],
      "execution_count": 1,
      "outputs": [
        {
          "output_type": "stream",
          "text": [
            "Mounted at /content/drive\n"
          ],
          "name": "stdout"
        }
      ]
    },
    {
      "cell_type": "code",
      "metadata": {
        "id": "EHOxvMatEZVg"
      },
      "source": [
        "!cp /content/drive/'My Drive'/'Colab Notebooks'/StanceDataset.zip .\n",
        "!unzip -q -o StanceDataset.zip -d data\n",
        "!rm StanceDataset.zip\n",
        "!unzip -uq \"/content/drive/My Drive/Colab Notebooks/StanceDataset.zip\" -d \"/content/drive/My Drive/Colab Notebooks/data\""
      ],
      "execution_count": 4,
      "outputs": []
    },
    {
      "cell_type": "code",
      "metadata": {
        "id": "yXv-qWtNEx4S"
      },
      "source": [
        "import tensorflow as tf\n",
        "AUTOTUNE = tf.data.experimental.AUTOTUNE\n",
        "import numpy as np\n",
        "import pandas as pd\n",
        "\n",
        "import tensorflow_datasets as tfds\n",
        "import pathlib\n",
        "import shutil\n",
        "import tempfile\n",
        "\n",
        "from  IPython import display\n",
        "from matplotlib import pyplot as plt"
      ],
      "execution_count": 5,
      "outputs": []
    },
    {
      "cell_type": "markdown",
      "metadata": {
        "id": "P1otUx9INcXn"
      },
      "source": [
        "##Data Extraction and Exploration\n"
      ]
    },
    {
      "cell_type": "code",
      "metadata": {
        "id": "qfJWb-tUFs7f",
        "outputId": "ee7ca326-ce4d-4eb6-8896-f30ce499d3db",
        "colab": {
          "base_uri": "https://localhost:8080/",
          "height": 195
        }
      },
      "source": [
        "stance_df = pd.read_csv(\"../content/drive/My Drive/Colab Notebooks/data/StanceDataset/train.csv\", index_col = None, header = 0, engine = 'python')\n",
        "stance_df.head()"
      ],
      "execution_count": 95,
      "outputs": [
        {
          "output_type": "execute_result",
          "data": {
            "text/html": [
              "<div>\n",
              "<style scoped>\n",
              "    .dataframe tbody tr th:only-of-type {\n",
              "        vertical-align: middle;\n",
              "    }\n",
              "\n",
              "    .dataframe tbody tr th {\n",
              "        vertical-align: top;\n",
              "    }\n",
              "\n",
              "    .dataframe thead th {\n",
              "        text-align: right;\n",
              "    }\n",
              "</style>\n",
              "<table border=\"1\" class=\"dataframe\">\n",
              "  <thead>\n",
              "    <tr style=\"text-align: right;\">\n",
              "      <th></th>\n",
              "      <th>Tweet</th>\n",
              "      <th>Target</th>\n",
              "      <th>Stance</th>\n",
              "      <th>Opinion Towards</th>\n",
              "      <th>Sentiment</th>\n",
              "    </tr>\n",
              "  </thead>\n",
              "  <tbody>\n",
              "    <tr>\n",
              "      <th>0</th>\n",
              "      <td>@tedcruz And, #HandOverTheServer she wiped cle...</td>\n",
              "      <td>Hillary Clinton</td>\n",
              "      <td>AGAINST</td>\n",
              "      <td>1.  The tweet explicitly expresses opinion abo...</td>\n",
              "      <td>neg</td>\n",
              "    </tr>\n",
              "    <tr>\n",
              "      <th>1</th>\n",
              "      <td>Hillary is our best choice if we truly want to...</td>\n",
              "      <td>Hillary Clinton</td>\n",
              "      <td>FAVOR</td>\n",
              "      <td>1.  The tweet explicitly expresses opinion abo...</td>\n",
              "      <td>pos</td>\n",
              "    </tr>\n",
              "    <tr>\n",
              "      <th>2</th>\n",
              "      <td>@TheView I think our country is ready for a fe...</td>\n",
              "      <td>Hillary Clinton</td>\n",
              "      <td>AGAINST</td>\n",
              "      <td>1.  The tweet explicitly expresses opinion abo...</td>\n",
              "      <td>neg</td>\n",
              "    </tr>\n",
              "    <tr>\n",
              "      <th>3</th>\n",
              "      <td>I just gave an unhealthy amount of my hard-ear...</td>\n",
              "      <td>Hillary Clinton</td>\n",
              "      <td>AGAINST</td>\n",
              "      <td>1.  The tweet explicitly expresses opinion abo...</td>\n",
              "      <td>neg</td>\n",
              "    </tr>\n",
              "    <tr>\n",
              "      <th>4</th>\n",
              "      <td>@PortiaABoulger Thank you for adding me to you...</td>\n",
              "      <td>Hillary Clinton</td>\n",
              "      <td>NONE</td>\n",
              "      <td>3.  The tweet is not explicitly expressing opi...</td>\n",
              "      <td>pos</td>\n",
              "    </tr>\n",
              "  </tbody>\n",
              "</table>\n",
              "</div>"
            ],
            "text/plain": [
              "                                               Tweet  ... Sentiment\n",
              "0  @tedcruz And, #HandOverTheServer she wiped cle...  ...       neg\n",
              "1  Hillary is our best choice if we truly want to...  ...       pos\n",
              "2  @TheView I think our country is ready for a fe...  ...       neg\n",
              "3  I just gave an unhealthy amount of my hard-ear...  ...       neg\n",
              "4  @PortiaABoulger Thank you for adding me to you...  ...       pos\n",
              "\n",
              "[5 rows x 5 columns]"
            ]
          },
          "metadata": {
            "tags": []
          },
          "execution_count": 95
        }
      ]
    },
    {
      "cell_type": "code",
      "metadata": {
        "id": "ECrQbZ2j8TJo",
        "outputId": "c45dd8ff-2a10-4dbf-8cbc-94e55fc27107",
        "colab": {
          "base_uri": "https://localhost:8080/",
          "height": 34
        }
      },
      "source": [
        "print(\"Stance dataset contains\", stance_df.shape[0], 'rows with', stance_df.shape[1], 'variables.')"
      ],
      "execution_count": 96,
      "outputs": [
        {
          "output_type": "stream",
          "text": [
            "Stance dataset contains 2914 rows with 5 variables.\n"
          ],
          "name": "stdout"
        }
      ]
    },
    {
      "cell_type": "code",
      "metadata": {
        "id": "Q6Gy7XRY45kQ"
      },
      "source": [
        "# remove any extra whitespace from the data\n",
        "stance_df = stance_df.applymap(lambda x: x.strip() if type(x) is str else x)"
      ],
      "execution_count": 99,
      "outputs": []
    },
    {
      "cell_type": "code",
      "metadata": {
        "id": "89jAwZbiF8-H"
      },
      "source": [
        "stance_df['Stance'] = stance_df['Stance'].replace(\"NONE\", \"NEITHER\")"
      ],
      "execution_count": 100,
      "outputs": []
    },
    {
      "cell_type": "code",
      "metadata": {
        "id": "fH2cK0uo6e9V"
      },
      "source": [
        "#stance_df['Target'].value_counts().plot(kind='bar')"
      ],
      "execution_count": 10,
      "outputs": []
    },
    {
      "cell_type": "code",
      "metadata": {
        "id": "Zg0NUnLMKXQT",
        "outputId": "5595deb2-8c5c-4576-b017-030b1c5c20f6",
        "colab": {
          "base_uri": "https://localhost:8080/",
          "height": 298
        }
      },
      "source": [
        "stance_df['Stance'].value_counts().plot(kind='bar', color = 'yellowgreen')\n",
        "plt.xticks(rotation=0)\n",
        "plt.title(\"Imbalanced data -- before sampling\")"
      ],
      "execution_count": 101,
      "outputs": [
        {
          "output_type": "execute_result",
          "data": {
            "text/plain": [
              "Text(0.5, 1.0, 'Imbalanced data -- before sampling')"
            ]
          },
          "metadata": {
            "tags": []
          },
          "execution_count": 101
        },
        {
          "output_type": "display_data",
          "data": {
            "image/png": "[encoded data removed]",
            "text/plain": [
              "<Figure size 432x288 with 1 Axes>"
            ]
          },
          "metadata": {
            "tags": [],
            "needs_background": "light"
          }
        }
      ]
    },
    {
      "cell_type": "markdown",
      "metadata": {
        "id": "aszU1oFXOgPv"
      },
      "source": [
        "Performing Over-sampling to balance Data"
      ]
    },
    {
      "cell_type": "code",
      "metadata": {
        "id": "PDGgkyUCLDLk",
        "outputId": "750c794b-5d6a-4a00-ce30-94a81131036e",
        "colab": {
          "base_uri": "https://localhost:8080/",
          "height": 154
        }
      },
      "source": [
        "from collections import Counter\n",
        "from imblearn.over_sampling import RandomOverSampler\n",
        "#print(Counter(y))\n",
        "oversample = RandomOverSampler(sampling_strategy = 'all')\n",
        "X_over, y_over = oversample.fit_resample(stance_df[['Tweet', 'Target']], stance_df['Stance'])\n",
        "print(Counter(y_over))"
      ],
      "execution_count": 12,
      "outputs": [
        {
          "output_type": "stream",
          "text": [
            "/usr/local/lib/python3.6/dist-packages/sklearn/externals/six.py:31: FutureWarning: The module is deprecated in version 0.21 and will be removed in version 0.23 since we've dropped support for Python 2.7. Please rely on the official version of six (https://pypi.org/project/six/).\n",
            "  \"(https://pypi.org/project/six/).\", FutureWarning)\n"
          ],
          "name": "stderr"
        },
        {
          "output_type": "stream",
          "text": [
            "Counter({'AGAINST': 1395, 'FAVOR': 1395, 'NEITHER': 1395})\n"
          ],
          "name": "stdout"
        },
        {
          "output_type": "stream",
          "text": [
            "/usr/local/lib/python3.6/dist-packages/sklearn/utils/deprecation.py:144: FutureWarning: The sklearn.neighbors.base module is  deprecated in version 0.22 and will be removed in version 0.24. The corresponding classes / functions should instead be imported from sklearn.neighbors. Anything that cannot be imported from sklearn.neighbors is now part of the private API.\n",
            "  warnings.warn(message, FutureWarning)\n",
            "/usr/local/lib/python3.6/dist-packages/sklearn/utils/deprecation.py:87: FutureWarning: Function safe_indexing is deprecated; safe_indexing is deprecated in version 0.22 and will be removed in version 0.24.\n",
            "  warnings.warn(msg, category=FutureWarning)\n"
          ],
          "name": "stderr"
        }
      ]
    },
    {
      "cell_type": "code",
      "metadata": {
        "id": "bNtog6DG6lLr",
        "outputId": "d4ec464f-8b0e-4f94-f479-229c0e1b17d8",
        "colab": {
          "base_uri": "https://localhost:8080/",
          "height": 298
        }
      },
      "source": [
        "df = pd.DataFrame(X_over, columns = ['Tweet', 'Target'])\n",
        "df['Stance'] = y_over\n",
        "\n",
        "df['Stance'].value_counts().plot(kind='bar', color = 'yellowgreen')\n",
        "plt.xticks(rotation=0)\n",
        "plt.title(\"Balanced data -- after sampling\")"
      ],
      "execution_count": 13,
      "outputs": [
        {
          "output_type": "execute_result",
          "data": {
            "text/plain": [
              "Text(0.5, 1.0, 'Balanced data -- after sampling')"
            ]
          },
          "metadata": {
            "tags": []
          },
          "execution_count": 13
        },
        {
          "output_type": "display_data",
          "data": {
            "image/png": "[encoded data removed]",
            "text/plain": [
              "<Figure size 432x288 with 1 Axes>"
            ]
          },
          "metadata": {
            "tags": [],
            "needs_background": "light"
          }
        }
      ]
    },
    {
      "cell_type": "code",
      "metadata": {
        "id": "4D34UHFB74TO",
        "outputId": "d10e69e7-8284-42ca-f724-70cc1bdd53b7",
        "colab": {
          "base_uri": "https://localhost:8080/",
          "height": 34
        }
      },
      "source": [
        "print(\"After performing the Random Over sampling, the dataset contains\", df.shape[0], 'rows with', df.shape[1], 'variables.')"
      ],
      "execution_count": 14,
      "outputs": [
        {
          "output_type": "stream",
          "text": [
            "After performing the Random Over sampling, the dataset contains 4185 rows with 3 variables.\n"
          ],
          "name": "stdout"
        }
      ]
    },
    {
      "cell_type": "code",
      "metadata": {
        "id": "Ji-MGEXv61vy",
        "outputId": "37636f89-a485-4f38-f682-6b9abd6abba4",
        "colab": {
          "base_uri": "https://localhost:8080/",
          "height": 34
        }
      },
      "source": [
        "print(\"Before performing the Random Over sampling, the dataset contains\", stance_df.shape[0], 'rows with', stance_df.shape[1], 'variables.')"
      ],
      "execution_count": 102,
      "outputs": [
        {
          "output_type": "stream",
          "text": [
            "Before performing the Random Over sampling, the dataset contains 2914 rows with 5 variables.\n"
          ],
          "name": "stdout"
        }
      ]
    },
    {
      "cell_type": "code",
      "metadata": {
        "id": "WOf1uwpt9YhW",
        "outputId": "a6bde06e-9d11-4cc3-f228-30b69c35f108",
        "colab": {
          "base_uri": "https://localhost:8080/",
          "height": 195
        }
      },
      "source": [
        "stance_df.head()"
      ],
      "execution_count": 90,
      "outputs": [
        {
          "output_type": "execute_result",
          "data": {
            "text/html": [
              "<div>\n",
              "<style scoped>\n",
              "    .dataframe tbody tr th:only-of-type {\n",
              "        vertical-align: middle;\n",
              "    }\n",
              "\n",
              "    .dataframe tbody tr th {\n",
              "        vertical-align: top;\n",
              "    }\n",
              "\n",
              "    .dataframe thead th {\n",
              "        text-align: right;\n",
              "    }\n",
              "</style>\n",
              "<table border=\"1\" class=\"dataframe\">\n",
              "  <thead>\n",
              "    <tr style=\"text-align: right;\">\n",
              "      <th></th>\n",
              "      <th>Tweet</th>\n",
              "      <th>Target</th>\n",
              "      <th>Stance</th>\n",
              "      <th>Opinion Towards</th>\n",
              "      <th>Sentiment</th>\n",
              "    </tr>\n",
              "  </thead>\n",
              "  <tbody>\n",
              "    <tr>\n",
              "      <th>0</th>\n",
              "      <td>@TEDCRUZ AND, #HANDOVERTHESERVER SHE WIPED CLE...</td>\n",
              "      <td>HILLARY CLINTON</td>\n",
              "      <td>1</td>\n",
              "      <td>1.  THE TWEET EXPLICITLY EXPRESSES OPINION ABO...</td>\n",
              "      <td>NEG</td>\n",
              "    </tr>\n",
              "    <tr>\n",
              "      <th>1</th>\n",
              "      <td>HILLARY IS OUR BEST CHOICE IF WE TRULY WANT TO...</td>\n",
              "      <td>HILLARY CLINTON</td>\n",
              "      <td>2</td>\n",
              "      <td>1.  THE TWEET EXPLICITLY EXPRESSES OPINION ABO...</td>\n",
              "      <td>POS</td>\n",
              "    </tr>\n",
              "    <tr>\n",
              "      <th>2</th>\n",
              "      <td>@THEVIEW I THINK OUR COUNTRY IS READY FOR A FE...</td>\n",
              "      <td>HILLARY CLINTON</td>\n",
              "      <td>1</td>\n",
              "      <td>1.  THE TWEET EXPLICITLY EXPRESSES OPINION ABO...</td>\n",
              "      <td>NEG</td>\n",
              "    </tr>\n",
              "    <tr>\n",
              "      <th>3</th>\n",
              "      <td>I JUST GAVE AN UNHEALTHY AMOUNT OF MY HARD-EAR...</td>\n",
              "      <td>HILLARY CLINTON</td>\n",
              "      <td>1</td>\n",
              "      <td>1.  THE TWEET EXPLICITLY EXPRESSES OPINION ABO...</td>\n",
              "      <td>NEG</td>\n",
              "    </tr>\n",
              "    <tr>\n",
              "      <th>4</th>\n",
              "      <td>@PORTIAABOULGER THANK YOU FOR ADDING ME TO YOU...</td>\n",
              "      <td>HILLARY CLINTON</td>\n",
              "      <td>0</td>\n",
              "      <td>3.  THE TWEET IS NOT EXPLICITLY EXPRESSING OPI...</td>\n",
              "      <td>POS</td>\n",
              "    </tr>\n",
              "  </tbody>\n",
              "</table>\n",
              "</div>"
            ],
            "text/plain": [
              "                                               Tweet  ... Sentiment\n",
              "0  @TEDCRUZ AND, #HANDOVERTHESERVER SHE WIPED CLE...  ...       NEG\n",
              "1  HILLARY IS OUR BEST CHOICE IF WE TRULY WANT TO...  ...       POS\n",
              "2  @THEVIEW I THINK OUR COUNTRY IS READY FOR A FE...  ...       NEG\n",
              "3  I JUST GAVE AN UNHEALTHY AMOUNT OF MY HARD-EAR...  ...       NEG\n",
              "4  @PORTIAABOULGER THANK YOU FOR ADDING ME TO YOU...  ...       POS\n",
              "\n",
              "[5 rows x 5 columns]"
            ]
          },
          "metadata": {
            "tags": []
          },
          "execution_count": 90
        }
      ]
    },
    {
      "cell_type": "code",
      "metadata": {
        "id": "CWacq82S8XNM"
      },
      "source": [
        "X = stance_df.drop('Stance',axis=1)"
      ],
      "execution_count": 103,
      "outputs": []
    },
    {
      "cell_type": "code",
      "metadata": {
        "id": "tCa_GnPlw6yb",
        "outputId": "90e9c4b7-0d86-488f-b70b-36f90fa950e1",
        "colab": {
          "base_uri": "https://localhost:8080/",
          "height": 34
        }
      },
      "source": [
        "X.shape"
      ],
      "execution_count": 104,
      "outputs": [
        {
          "output_type": "execute_result",
          "data": {
            "text/plain": [
              "(2914, 4)"
            ]
          },
          "metadata": {
            "tags": []
          },
          "execution_count": 104
        }
      ]
    },
    {
      "cell_type": "code",
      "metadata": {
        "id": "c_00bw8Gxk_b"
      },
      "source": [
        "tweets=X.copy()"
      ],
      "execution_count": 105,
      "outputs": []
    },
    {
      "cell_type": "markdown",
      "metadata": {
        "id": "lArOEdCKx-cs"
      },
      "source": [
        "##Data Pre-processing"
      ]
    },
    {
      "cell_type": "code",
      "metadata": {
        "id": "Kko-Xu-0kgXG",
        "outputId": "a5ffea21-a1a2-473b-e825-95b06da4d0a0",
        "colab": {
          "base_uri": "https://localhost:8080/",
          "height": 195
        }
      },
      "source": [
        "encode = {\n",
        "    \"NEITHER\" : 0,\n",
        "    \"AGAINST\"  : 1,       \n",
        "    \"FAVOR\" : 2,    \n",
        "}\n",
        "\n",
        "stance_df['Stance'] = stance_df['Stance'].apply(lambda x: encode[x])\n",
        "stance_df.head()"
      ],
      "execution_count": 106,
      "outputs": [
        {
          "output_type": "execute_result",
          "data": {
            "text/html": [
              "<div>\n",
              "<style scoped>\n",
              "    .dataframe tbody tr th:only-of-type {\n",
              "        vertical-align: middle;\n",
              "    }\n",
              "\n",
              "    .dataframe tbody tr th {\n",
              "        vertical-align: top;\n",
              "    }\n",
              "\n",
              "    .dataframe thead th {\n",
              "        text-align: right;\n",
              "    }\n",
              "</style>\n",
              "<table border=\"1\" class=\"dataframe\">\n",
              "  <thead>\n",
              "    <tr style=\"text-align: right;\">\n",
              "      <th></th>\n",
              "      <th>Tweet</th>\n",
              "      <th>Target</th>\n",
              "      <th>Stance</th>\n",
              "      <th>Opinion Towards</th>\n",
              "      <th>Sentiment</th>\n",
              "    </tr>\n",
              "  </thead>\n",
              "  <tbody>\n",
              "    <tr>\n",
              "      <th>0</th>\n",
              "      <td>@TEDCRUZ AND, #HANDOVERTHESERVER SHE WIPED CLE...</td>\n",
              "      <td>HILLARY CLINTON</td>\n",
              "      <td>1</td>\n",
              "      <td>1.  THE TWEET EXPLICITLY EXPRESSES OPINION ABO...</td>\n",
              "      <td>NEG</td>\n",
              "    </tr>\n",
              "    <tr>\n",
              "      <th>1</th>\n",
              "      <td>HILLARY IS OUR BEST CHOICE IF WE TRULY WANT TO...</td>\n",
              "      <td>HILLARY CLINTON</td>\n",
              "      <td>2</td>\n",
              "      <td>1.  THE TWEET EXPLICITLY EXPRESSES OPINION ABO...</td>\n",
              "      <td>POS</td>\n",
              "    </tr>\n",
              "    <tr>\n",
              "      <th>2</th>\n",
              "      <td>@THEVIEW I THINK OUR COUNTRY IS READY FOR A FE...</td>\n",
              "      <td>HILLARY CLINTON</td>\n",
              "      <td>1</td>\n",
              "      <td>1.  THE TWEET EXPLICITLY EXPRESSES OPINION ABO...</td>\n",
              "      <td>NEG</td>\n",
              "    </tr>\n",
              "    <tr>\n",
              "      <th>3</th>\n",
              "      <td>I JUST GAVE AN UNHEALTHY AMOUNT OF MY HARD-EAR...</td>\n",
              "      <td>HILLARY CLINTON</td>\n",
              "      <td>1</td>\n",
              "      <td>1.  THE TWEET EXPLICITLY EXPRESSES OPINION ABO...</td>\n",
              "      <td>NEG</td>\n",
              "    </tr>\n",
              "    <tr>\n",
              "      <th>4</th>\n",
              "      <td>@PORTIAABOULGER THANK YOU FOR ADDING ME TO YOU...</td>\n",
              "      <td>HILLARY CLINTON</td>\n",
              "      <td>0</td>\n",
              "      <td>3.  THE TWEET IS NOT EXPLICITLY EXPRESSING OPI...</td>\n",
              "      <td>POS</td>\n",
              "    </tr>\n",
              "  </tbody>\n",
              "</table>\n",
              "</div>"
            ],
            "text/plain": [
              "                                               Tweet  ... Sentiment\n",
              "0  @TEDCRUZ AND, #HANDOVERTHESERVER SHE WIPED CLE...  ...       NEG\n",
              "1  HILLARY IS OUR BEST CHOICE IF WE TRULY WANT TO...  ...       POS\n",
              "2  @THEVIEW I THINK OUR COUNTRY IS READY FOR A FE...  ...       NEG\n",
              "3  I JUST GAVE AN UNHEALTHY AMOUNT OF MY HARD-EAR...  ...       NEG\n",
              "4  @PORTIAABOULGER THANK YOU FOR ADDING ME TO YOU...  ...       POS\n",
              "\n",
              "[5 rows x 5 columns]"
            ]
          },
          "metadata": {
            "tags": []
          },
          "execution_count": 106
        }
      ]
    },
    {
      "cell_type": "code",
      "metadata": {
        "id": "EsPkkbyglMqF",
        "outputId": "518e06c8-31f2-4d6e-bbea-fd18f45af16b",
        "colab": {
          "base_uri": "https://localhost:8080/",
          "height": 84
        }
      },
      "source": [
        "stance_df['Stance'].value_counts()"
      ],
      "execution_count": 107,
      "outputs": [
        {
          "output_type": "execute_result",
          "data": {
            "text/plain": [
              "1    1395\n",
              "0     766\n",
              "2     753\n",
              "Name: Stance, dtype: int64"
            ]
          },
          "metadata": {
            "tags": []
          },
          "execution_count": 107
        }
      ]
    },
    {
      "cell_type": "code",
      "metadata": {
        "id": "s9XKTABvyThf"
      },
      "source": [
        "import re\n",
        "\n",
        "def process(text):\n",
        "    \"\"\"\n",
        "    Perform the re-processing of tweets.  \n",
        "\n",
        "    @param text: the text (tweet) to process\n",
        "    @param tokeniser: tokeniser to use.\n",
        "    @param stopwords: list of stopwords to use.\n",
        "      \n",
        "    @returns: list of (valid) tokens in text\n",
        "    \"\"\"\n",
        "    text = text.lower()\n",
        "    text = re.sub(\"[\"\n",
        "                                   u\"\\U0001F600-\\U0001F64F\"  # emoticons\n",
        "                                   u\"\\U0001F300-\\U0001F5FF\"  # symbols & pictographs\n",
        "                                   u\"\\U0001F680-\\U0001F6FF\"  # transport & map symbols\n",
        "                                   u\"\\U0001F1E0-\\U0001F1FF\"  # flags (iOS)\n",
        "                                   u\"\\U00002702-\\U000027B0\"\n",
        "                                   u\"\\U000024C2-\\U0001F251\"\n",
        "                                   \"]+\", '',text)\n",
        "    \n",
        "    \n",
        "    text = re.sub(\"@\", '', text)\n",
        "    text = re.sub(\"#\", '', text)\n",
        "    text = re.sub(r'RT[\\s]+', '', text) #retweets\n",
        "    text = re.sub(r'https?:\\/\\/\\S+', '', text)\n",
        "    text = re.sub('[0-9]+', '', text)\n",
        "    #tokens = tokeniser.tokenize(text)\n",
        "    #text  = \"\".join([char for char in text if char not in stopwords])\n",
        "    return text\n",
        "\n",
        "    #return [tok for tok in tokens if tok not in stopwords and not tok.isdigit() and emoji_pattern.match(tok) == None ]"
      ],
      "execution_count": 139,
      "outputs": []
    },
    {
      "cell_type": "code",
      "metadata": {
        "id": "Si7HgXmQypu1",
        "outputId": "e9c9c529-0143-498a-a3ba-1908682f1235",
        "colab": {
          "base_uri": "https://localhost:8080/",
          "height": 84
        }
      },
      "source": [
        "# use built-in nltk tweet tokenizer\n",
        "import nltk\n",
        "import string\n",
        "nltk.download('punkt')\n",
        "nltk.download('stopwords')\n",
        "from nltk.tokenize import TweetTokenizer\n",
        "from nltk.corpus import stopwords\n",
        "from collections import Counter\n",
        "\n",
        "tweetTokenizer = nltk.tokenize.TweetTokenizer()\n",
        "punct = list(string.punctuation)\n",
        "stopwordList = stopwords.words('english') + punct +['.', '...', 'k']"
      ],
      "execution_count": 140,
      "outputs": [
        {
          "output_type": "stream",
          "text": [
            "[nltk_data] Downloading package punkt to /root/nltk_data...\n",
            "[nltk_data]   Package punkt is already up-to-date!\n",
            "[nltk_data] Downloading package stopwords to /root/nltk_data...\n",
            "[nltk_data]   Package stopwords is already up-to-date!\n"
          ],
          "name": "stdout"
        }
      ]
    },
    {
      "cell_type": "markdown",
      "metadata": {
        "id": "y6OLtRvUToXy"
      },
      "source": [
        "**Tokenization**"
      ]
    },
    {
      "cell_type": "code",
      "metadata": {
        "id": "pZqI6K1Ey1lM"
      },
      "source": [
        "corpus = []\n",
        "for i in range(0, len(tweets)):\n",
        "    tweet = process(text=tweets['Tweet'][i])\n",
        "    tokens = tweetTokenizer.tokenize(tweet)\n",
        "    tok = [tok for tok in tokens if tok not in stopwordList]\n",
        "    #topic = process(text=tweets['Target'][i], tokeniser=tweetTokenizer, stopwords=stopwordList)\n",
        "    #topic = ' '.join(topic)\n",
        "    #tweet = ' '.join(tweet)\n",
        "    #input = tweet + topic\n",
        "    corpus.append(tok)"
      ],
      "execution_count": 142,
      "outputs": []
    },
    {
      "cell_type": "code",
      "metadata": {
        "id": "bDXxQ_a65G7L",
        "outputId": "64d1cfef-70b8-4245-cbf9-fb959c865010",
        "colab": {
          "base_uri": "https://localhost:8080/",
          "height": 386
        }
      },
      "source": [
        "corpus[:2]"
      ],
      "execution_count": 143,
      "outputs": [
        {
          "output_type": "execute_result",
          "data": {
            "text/plain": [
              "[['tedcruz',\n",
              "  'handovertheserver',\n",
              "  'wiped',\n",
              "  'clean',\n",
              "  'deleted',\n",
              "  'emails',\n",
              "  'explains',\n",
              "  'dereliction',\n",
              "  'duty',\n",
              "  'lies',\n",
              "  'benghazi',\n",
              "  'etc',\n",
              "  'tcot'],\n",
              " ['hillary',\n",
              "  'best',\n",
              "  'choice',\n",
              "  'truly',\n",
              "  'want',\n",
              "  'continue',\n",
              "  'progressive',\n",
              "  'nation',\n",
              "  'ohio']]"
            ]
          },
          "metadata": {
            "tags": []
          },
          "execution_count": 143
        }
      ]
    },
    {
      "cell_type": "markdown",
      "metadata": {
        "id": "mm-cw3bZT0f6"
      },
      "source": [
        "**Bi-gram**"
      ]
    },
    {
      "cell_type": "code",
      "metadata": {
        "id": "PIANTZgzvdlA"
      },
      "source": [
        "import nltk\n",
        "from nltk.util import ngrams\n",
        "\n",
        "def extract_ngrams(data, num, stopwords=[]):\n",
        "    \n",
        "    #n_grams = ngrams(nltk.word_tokenize(data), num)\n",
        "    n_grams = ngrams(data, num)\n",
        "    return [ ' '.join(grams) for grams in n_grams]\n",
        " \n",
        " "
      ],
      "execution_count": 150,
      "outputs": []
    },
    {
      "cell_type": "code",
      "metadata": {
        "id": "kqyHEj4L9j2a"
      },
      "source": [
        "bigram_corpus= []\n",
        "for i in range(0, len(tweets)):\n",
        "    tweet = process(text=tweets['Tweet'][i])\n",
        "    tokenized = tweet.split()\n",
        "    tokenized = [tok for tok in tokenized if tok not in stopwordList]\n",
        "    bigram = extract_ngrams(tokenized, 2)\n",
        "    bigram_corpus.append(bigram)"
      ],
      "execution_count": 151,
      "outputs": []
    },
    {
      "cell_type": "code",
      "metadata": {
        "id": "mOG1AxH2-0zG",
        "outputId": "0648c8b2-4fda-4449-fdde-56a7e8028de9",
        "colab": {
          "base_uri": "https://localhost:8080/",
          "height": 336
        }
      },
      "source": [
        "bigram_corpus[:2]"
      ],
      "execution_count": 152,
      "outputs": [
        {
          "output_type": "execute_result",
          "data": {
            "text/plain": [
              "[['tedcruz and,',\n",
              "  'and, handovertheserver',\n",
              "  'handovertheserver wiped',\n",
              "  'wiped clean',\n",
              "  'clean deleted',\n",
              "  'deleted emails,',\n",
              "  'emails, explains',\n",
              "  'explains dereliction',\n",
              "  'dereliction duty/lies',\n",
              "  'duty/lies benghazi,etc',\n",
              "  'benghazi,etc tcot'],\n",
              " ['hillary best',\n",
              "  'best choice',\n",
              "  'choice truly',\n",
              "  'truly want',\n",
              "  'want continue',\n",
              "  'continue progressive',\n",
              "  'progressive nation.',\n",
              "  'nation. ohio']]"
            ]
          },
          "metadata": {
            "tags": []
          },
          "execution_count": 152
        }
      ]
    },
    {
      "cell_type": "markdown",
      "metadata": {
        "id": "9oA5wuGaeRhM"
      },
      "source": [
        "**Train-test dataset preparation**"
      ]
    },
    {
      "cell_type": "code",
      "metadata": {
        "id": "yH6tN05M7mw6",
        "outputId": "b00ae84c-ded6-4cc0-e3d5-ed0be3fc3886",
        "colab": {
          "base_uri": "https://localhost:8080/",
          "height": 50
        }
      },
      "source": [
        "from tensorflow.python.keras.preprocessing.text import Tokenizer\n",
        "from tensorflow.python.keras.preprocessing.sequence import pad_sequences\n",
        "\n",
        "validation_split = 0.20\n",
        "max_length = 25\n",
        "\n",
        "tokenizer_obj = Tokenizer()\n",
        "tokenizer_obj.fit_on_texts(bigram_corpus)\n",
        "sequences = tokenizer_obj.texts_to_sequences(bigram_corpus)\n",
        "\n",
        "word_index = tokenizer_obj.word_index\n",
        "print(\"unique tokens - \"+str(len(word_index)))\n",
        "vocab_size = len(tokenizer_obj.word_index) + 1\n",
        "print('vocab_size - '+str(vocab_size))\n",
        "\n",
        "lines_pad = pad_sequences(sequences, maxlen=max_length, padding='post')\n",
        "category =  stance_df['Stance'].values"
      ],
      "execution_count": 153,
      "outputs": [
        {
          "output_type": "stream",
          "text": [
            "unique tokens - 26035\n",
            "vocab_size - 26036\n"
          ],
          "name": "stdout"
        }
      ]
    },
    {
      "cell_type": "code",
      "metadata": {
        "id": "PaLsjoTLvhJQ",
        "outputId": "661105d2-a775-4692-fefe-57d93ceb225e",
        "colab": {
          "base_uri": "https://localhost:8080/",
          "height": 34
        }
      },
      "source": [
        "category"
      ],
      "execution_count": 154,
      "outputs": [
        {
          "output_type": "execute_result",
          "data": {
            "text/plain": [
              "array([1, 2, 1, ..., 1, 1, 1])"
            ]
          },
          "metadata": {
            "tags": []
          },
          "execution_count": 154
        }
      ]
    },
    {
      "cell_type": "code",
      "metadata": {
        "id": "Wt8ASoHUmHQX"
      },
      "source": [
        "indices = np.arange(lines_pad.shape[0])\n",
        "np.random.shuffle(indices)\n",
        "lines_pad = lines_pad[indices]\n",
        "category = category[indices]\n",
        "\n",
        "n_values = np.max(category) + 1\n",
        "Y = np.eye(n_values)[category]\n",
        "\n",
        "num_validation_samples = int(validation_split * lines_pad.shape[0])\n",
        "\n",
        "X_train_pad = lines_pad[:-num_validation_samples]\n",
        "y_train = Y[:-num_validation_samples]\n",
        "X_val_pad = lines_pad[-num_validation_samples:]\n",
        "y_val = Y[-num_validation_samples:]"
      ],
      "execution_count": 155,
      "outputs": []
    },
    {
      "cell_type": "code",
      "metadata": {
        "id": "53TT8G50nfPo"
      },
      "source": [
        "# Randomly sample some train data\n",
        "train_len = X_train_pad.shape[0]\n",
        "\n",
        "idx = np.random.randint(train_len, size=train_len//25)\n",
        "\n",
        "X_train_pad_sampled = X_train_pad[idx, :]\n",
        "y_train_sampled = y_train[idx]"
      ],
      "execution_count": 156,
      "outputs": []
    },
    {
      "cell_type": "code",
      "metadata": {
        "id": "DIJfCE5nnf02",
        "outputId": "5d8c511f-f7ea-4eab-8afd-5a949ac424b6",
        "colab": {
          "base_uri": "https://localhost:8080/",
          "height": 118
        }
      },
      "source": [
        "print('Shape of X_train_pad:', X_train_pad.shape)\n",
        "print('Shape of y_train:', y_train.shape)\n",
        "\n",
        "print('Shape of X_train_pad_sampled:', X_train_pad_sampled.shape)\n",
        "print('Shape of y_train_sampled:', y_train_sampled.shape)\n",
        "\n",
        "print('Shape of X_test_pad:', X_val_pad.shape)\n",
        "print('Shape of y_test:', y_val.shape)"
      ],
      "execution_count": 157,
      "outputs": [
        {
          "output_type": "stream",
          "text": [
            "Shape of X_train_pad: (2332, 25)\n",
            "Shape of y_train: (2332, 3)\n",
            "Shape of X_train_pad_sampled: (93, 25)\n",
            "Shape of y_train_sampled: (93, 3)\n",
            "Shape of X_test_pad: (582, 25)\n",
            "Shape of y_test: (582, 3)\n"
          ],
          "name": "stdout"
        }
      ]
    },
    {
      "cell_type": "markdown",
      "metadata": {
        "id": "EuBVt_uzenPd"
      },
      "source": [
        "**Base LSTM Model**"
      ]
    },
    {
      "cell_type": "code",
      "metadata": {
        "id": "26oK_LEPpdmq",
        "outputId": "7d605d7c-b87f-4fec-fef2-e95058a81ae2",
        "colab": {
          "base_uri": "https://localhost:8080/",
          "height": 269
        }
      },
      "source": [
        "from tensorflow.keras.layers import Dense, Embedding, GRU, LSTM, Bidirectional\n",
        "from tensorflow.keras.models import Sequential\n",
        "\n",
        "embedding_dim = 100\n",
        "\n",
        "embedding_layer = Embedding(len(word_index) + 1,\n",
        "                            embedding_dim,\n",
        "                            input_length=max_length,\n",
        "                            trainable=True)\n",
        "\n",
        "model_glove = Sequential()\n",
        "model_glove.add(embedding_layer)\n",
        "model_glove.add(LSTM(units=100,  dropout=0.2, recurrent_dropout=0.25))\n",
        "model_glove.add(Dense(3, activation='softmax'))\n",
        "\n",
        "model_glove.compile(loss='categorical_crossentropy', optimizer='adam', metrics=['categorical_accuracy'])\n",
        "\n",
        "print(model_glove.summary())"
      ],
      "execution_count": 158,
      "outputs": [
        {
          "output_type": "stream",
          "text": [
            "Model: \"sequential_2\"\n",
            "_________________________________________________________________\n",
            "Layer (type)                 Output Shape              Param #   \n",
            "=================================================================\n",
            "embedding_2 (Embedding)      (None, 25, 100)           2603600   \n",
            "_________________________________________________________________\n",
            "lstm_2 (LSTM)                (None, 100)               80400     \n",
            "_________________________________________________________________\n",
            "dense_2 (Dense)              (None, 3)                 303       \n",
            "=================================================================\n",
            "Total params: 2,684,303\n",
            "Trainable params: 2,684,303\n",
            "Non-trainable params: 0\n",
            "_________________________________________________________________\n",
            "None\n"
          ],
          "name": "stdout"
        }
      ]
    },
    {
      "cell_type": "code",
      "metadata": {
        "id": "GHOVikyurSo6"
      },
      "source": [
        "EPOCH = 50"
      ],
      "execution_count": 159,
      "outputs": []
    },
    {
      "cell_type": "code",
      "metadata": {
        "id": "FxgNZ1IxrcMh",
        "outputId": "10903c32-9253-4fd2-bf89-d9c01e980c5b",
        "colab": {
          "base_uri": "https://localhost:8080/",
          "height": 1000
        }
      },
      "source": [
        "m_histories = {}\n",
        "m_histories['no_TL' ] = model_glove.fit(X_train_pad_sampled, y_train_sampled, batch_size=32, epochs=EPOCH, validation_data=(X_val_pad, y_val), verbose=1)"
      ],
      "execution_count": 160,
      "outputs": [
        {
          "output_type": "stream",
          "text": [
            "Epoch 1/50\n",
            "3/3 [==============================] - 1s 201ms/step - loss: 1.0896 - categorical_accuracy: 0.4409 - val_loss: 1.0730 - val_categorical_accuracy: 0.4759\n",
            "Epoch 2/50\n",
            "3/3 [==============================] - 0s 107ms/step - loss: 1.0774 - categorical_accuracy: 0.4409 - val_loss: 1.0634 - val_categorical_accuracy: 0.4759\n",
            "Epoch 3/50\n",
            "3/3 [==============================] - 0s 101ms/step - loss: 1.0727 - categorical_accuracy: 0.4409 - val_loss: 1.0632 - val_categorical_accuracy: 0.4759\n",
            "Epoch 4/50\n",
            "3/3 [==============================] - 0s 99ms/step - loss: 1.0707 - categorical_accuracy: 0.4409 - val_loss: 1.0641 - val_categorical_accuracy: 0.4759\n",
            "Epoch 5/50\n",
            "3/3 [==============================] - 0s 104ms/step - loss: 1.0681 - categorical_accuracy: 0.4409 - val_loss: 1.0662 - val_categorical_accuracy: 0.4759\n",
            "Epoch 6/50\n",
            "3/3 [==============================] - 0s 101ms/step - loss: 1.0665 - categorical_accuracy: 0.4409 - val_loss: 1.0689 - val_categorical_accuracy: 0.4759\n",
            "Epoch 7/50\n",
            "3/3 [==============================] - 0s 104ms/step - loss: 1.0612 - categorical_accuracy: 0.4409 - val_loss: 1.0690 - val_categorical_accuracy: 0.4759\n",
            "Epoch 8/50\n",
            "3/3 [==============================] - 0s 101ms/step - loss: 1.0490 - categorical_accuracy: 0.4409 - val_loss: 1.0687 - val_categorical_accuracy: 0.4759\n",
            "Epoch 9/50\n",
            "3/3 [==============================] - 0s 100ms/step - loss: 1.0199 - categorical_accuracy: 0.4409 - val_loss: 1.0647 - val_categorical_accuracy: 0.4759\n",
            "Epoch 10/50\n",
            "3/3 [==============================] - 0s 104ms/step - loss: 0.9040 - categorical_accuracy: 0.6667 - val_loss: 1.0635 - val_categorical_accuracy: 0.4759\n",
            "Epoch 11/50\n",
            "3/3 [==============================] - 0s 100ms/step - loss: 0.6012 - categorical_accuracy: 0.7527 - val_loss: 1.0978 - val_categorical_accuracy: 0.4296\n",
            "Epoch 12/50\n",
            "3/3 [==============================] - 0s 98ms/step - loss: 0.4264 - categorical_accuracy: 0.7527 - val_loss: 2.0252 - val_categorical_accuracy: 0.2852\n",
            "Epoch 13/50\n",
            "3/3 [==============================] - 0s 104ms/step - loss: 0.4516 - categorical_accuracy: 0.7527 - val_loss: 1.5219 - val_categorical_accuracy: 0.3677\n",
            "Epoch 14/50\n",
            "3/3 [==============================] - 0s 101ms/step - loss: 0.4430 - categorical_accuracy: 0.7527 - val_loss: 1.2431 - val_categorical_accuracy: 0.4158\n",
            "Epoch 15/50\n",
            "3/3 [==============================] - 0s 103ms/step - loss: 0.3003 - categorical_accuracy: 0.8065 - val_loss: 1.1789 - val_categorical_accuracy: 0.3265\n",
            "Epoch 16/50\n",
            "3/3 [==============================] - 0s 99ms/step - loss: 0.2981 - categorical_accuracy: 0.9570 - val_loss: 1.1310 - val_categorical_accuracy: 0.3041\n",
            "Epoch 17/50\n",
            "3/3 [==============================] - 0s 99ms/step - loss: 0.1876 - categorical_accuracy: 1.0000 - val_loss: 1.1736 - val_categorical_accuracy: 0.3110\n",
            "Epoch 18/50\n",
            "3/3 [==============================] - 0s 101ms/step - loss: 0.1414 - categorical_accuracy: 1.0000 - val_loss: 1.2636 - val_categorical_accuracy: 0.2990\n",
            "Epoch 19/50\n",
            "3/3 [==============================] - 0s 99ms/step - loss: 0.0896 - categorical_accuracy: 1.0000 - val_loss: 1.4495 - val_categorical_accuracy: 0.2921\n",
            "Epoch 20/50\n",
            "3/3 [==============================] - 0s 99ms/step - loss: 0.0567 - categorical_accuracy: 1.0000 - val_loss: 1.7642 - val_categorical_accuracy: 0.2904\n",
            "Epoch 21/50\n",
            "3/3 [==============================] - 0s 100ms/step - loss: 0.0346 - categorical_accuracy: 1.0000 - val_loss: 2.1598 - val_categorical_accuracy: 0.2887\n",
            "Epoch 22/50\n",
            "3/3 [==============================] - 0s 100ms/step - loss: 0.0210 - categorical_accuracy: 1.0000 - val_loss: 2.5966 - val_categorical_accuracy: 0.2887\n",
            "Epoch 23/50\n",
            "3/3 [==============================] - 0s 103ms/step - loss: 0.0132 - categorical_accuracy: 1.0000 - val_loss: 3.0131 - val_categorical_accuracy: 0.2869\n",
            "Epoch 24/50\n",
            "3/3 [==============================] - 0s 99ms/step - loss: 0.0089 - categorical_accuracy: 1.0000 - val_loss: 3.3812 - val_categorical_accuracy: 0.2869\n",
            "Epoch 25/50\n",
            "3/3 [==============================] - 0s 103ms/step - loss: 0.0065 - categorical_accuracy: 1.0000 - val_loss: 3.6946 - val_categorical_accuracy: 0.2869\n",
            "Epoch 26/50\n",
            "3/3 [==============================] - 0s 103ms/step - loss: 0.0051 - categorical_accuracy: 1.0000 - val_loss: 3.9495 - val_categorical_accuracy: 0.2852\n",
            "Epoch 27/50\n",
            "3/3 [==============================] - 0s 103ms/step - loss: 0.0042 - categorical_accuracy: 1.0000 - val_loss: 4.1540 - val_categorical_accuracy: 0.2852\n",
            "Epoch 28/50\n",
            "3/3 [==============================] - 0s 113ms/step - loss: 0.0035 - categorical_accuracy: 1.0000 - val_loss: 4.3168 - val_categorical_accuracy: 0.2852\n",
            "Epoch 29/50\n",
            "3/3 [==============================] - 0s 123ms/step - loss: 0.0031 - categorical_accuracy: 1.0000 - val_loss: 4.4467 - val_categorical_accuracy: 0.2852\n",
            "Epoch 30/50\n",
            "3/3 [==============================] - 0s 113ms/step - loss: 0.0027 - categorical_accuracy: 1.0000 - val_loss: 4.5507 - val_categorical_accuracy: 0.2852\n",
            "Epoch 31/50\n",
            "3/3 [==============================] - 0s 100ms/step - loss: 0.0024 - categorical_accuracy: 1.0000 - val_loss: 4.6351 - val_categorical_accuracy: 0.2852\n",
            "Epoch 32/50\n",
            "3/3 [==============================] - 0s 103ms/step - loss: 0.0022 - categorical_accuracy: 1.0000 - val_loss: 4.7037 - val_categorical_accuracy: 0.2852\n",
            "Epoch 33/50\n",
            "3/3 [==============================] - 0s 104ms/step - loss: 0.0021 - categorical_accuracy: 1.0000 - val_loss: 4.7607 - val_categorical_accuracy: 0.2852\n",
            "Epoch 34/50\n",
            "3/3 [==============================] - 0s 101ms/step - loss: 0.0019 - categorical_accuracy: 1.0000 - val_loss: 4.8084 - val_categorical_accuracy: 0.2852\n",
            "Epoch 35/50\n",
            "3/3 [==============================] - 0s 101ms/step - loss: 0.0018 - categorical_accuracy: 1.0000 - val_loss: 4.8494 - val_categorical_accuracy: 0.2852\n",
            "Epoch 36/50\n",
            "3/3 [==============================] - 0s 102ms/step - loss: 0.0017 - categorical_accuracy: 1.0000 - val_loss: 4.8850 - val_categorical_accuracy: 0.2852\n",
            "Epoch 37/50\n",
            "3/3 [==============================] - 0s 101ms/step - loss: 0.0016 - categorical_accuracy: 1.0000 - val_loss: 4.9165 - val_categorical_accuracy: 0.2852\n",
            "Epoch 38/50\n",
            "3/3 [==============================] - 0s 105ms/step - loss: 0.0015 - categorical_accuracy: 1.0000 - val_loss: 4.9449 - val_categorical_accuracy: 0.2852\n",
            "Epoch 39/50\n",
            "3/3 [==============================] - 0s 116ms/step - loss: 0.0014 - categorical_accuracy: 1.0000 - val_loss: 4.9709 - val_categorical_accuracy: 0.2852\n",
            "Epoch 40/50\n",
            "3/3 [==============================] - 0s 110ms/step - loss: 0.0014 - categorical_accuracy: 1.0000 - val_loss: 4.9949 - val_categorical_accuracy: 0.2852\n",
            "Epoch 41/50\n",
            "3/3 [==============================] - 0s 101ms/step - loss: 0.0013 - categorical_accuracy: 1.0000 - val_loss: 5.0175 - val_categorical_accuracy: 0.2852\n",
            "Epoch 42/50\n",
            "3/3 [==============================] - 0s 101ms/step - loss: 0.0013 - categorical_accuracy: 1.0000 - val_loss: 5.0385 - val_categorical_accuracy: 0.2852\n",
            "Epoch 43/50\n",
            "3/3 [==============================] - 0s 102ms/step - loss: 0.0012 - categorical_accuracy: 1.0000 - val_loss: 5.0588 - val_categorical_accuracy: 0.2852\n",
            "Epoch 44/50\n",
            "3/3 [==============================] - 0s 104ms/step - loss: 0.0012 - categorical_accuracy: 1.0000 - val_loss: 5.0796 - val_categorical_accuracy: 0.2852\n",
            "Epoch 45/50\n",
            "3/3 [==============================] - 0s 107ms/step - loss: 0.0012 - categorical_accuracy: 1.0000 - val_loss: 5.0997 - val_categorical_accuracy: 0.2852\n",
            "Epoch 46/50\n",
            "3/3 [==============================] - 0s 100ms/step - loss: 0.0011 - categorical_accuracy: 1.0000 - val_loss: 5.1193 - val_categorical_accuracy: 0.2852\n",
            "Epoch 47/50\n",
            "3/3 [==============================] - 0s 101ms/step - loss: 0.0011 - categorical_accuracy: 1.0000 - val_loss: 5.1381 - val_categorical_accuracy: 0.2852\n",
            "Epoch 48/50\n",
            "3/3 [==============================] - 0s 99ms/step - loss: 0.0011 - categorical_accuracy: 1.0000 - val_loss: 5.1564 - val_categorical_accuracy: 0.2852\n",
            "Epoch 49/50\n",
            "3/3 [==============================] - 0s 99ms/step - loss: 9.9005e-04 - categorical_accuracy: 1.0000 - val_loss: 5.1752 - val_categorical_accuracy: 0.2852\n",
            "Epoch 50/50\n",
            "3/3 [==============================] - 0s 99ms/step - loss: 9.7998e-04 - categorical_accuracy: 1.0000 - val_loss: 5.1940 - val_categorical_accuracy: 0.2852\n"
          ],
          "name": "stdout"
        }
      ]
    },
    {
      "cell_type": "code",
      "metadata": {
        "id": "AWnrQ6w3MwPs"
      },
      "source": [
        ""
      ],
      "execution_count": null,
      "outputs": []
    },
    {
      "cell_type": "code",
      "metadata": {
        "id": "86lGOTQlroeE"
      },
      "source": [
        ""
      ],
      "execution_count": null,
      "outputs": []
    }
  ]
}